{
 "cells": [
  {
   "cell_type": "raw",
   "id": "74eb2fbe",
   "metadata": {},
   "source": [
    "About Dataset\n",
    "\n",
    "\n",
    "Content\n",
    "\n",
    "A large MNC have 9 broad verticals across the organisation. One of the problem is identifying the right people for promotion (only for manager position and below) and prepare them in time.\n",
    "\n",
    "The final promotions are only announced after the evaluation and this leads to delay in transition to new roles. Hence, company needs help in identifying the eligible candidates at a particular checkpoint so that they can expedite the entire promotion cycle.\n",
    "\n",
    "Multiple attributes have been provided around Employee's past and current performance along with demographics.\n",
    "\n",
    "Features:\n",
    "\n",
    "employee_id: Unique ID for employee\n",
    "department: Department of employee\n",
    "region: Region of employment (unordered)\n",
    "education: Education Level\n",
    "gender: Gender of Employee\n",
    "recruitment_channel: Channel of recruitment for employee\n",
    "no_ of_ trainings: no of other trainings completed in previous year on soft skills, technical skills etc.\n",
    "age: Age of Employee\n",
    "previous_ year_ rating: Employee Rating for the previous year\n",
    "length_ of_ service: Length of service in years\n",
    "awards_ won?: if awards won during previous year then 1 else 0\n",
    "avg_ training_ score: Average score in current training evaluations\n",
    "is_promoted: (Target) Recommended for promotion.\n",
    "\n",
    "\n",
    "Inspiration:\n",
    "\n",
    "\n",
    "Predict whether a potential promotee at checkpoint in the test set will be promoted or not after the evaluation process."
   ]
  },
  {
   "cell_type": "code",
   "execution_count": 79,
   "id": "9859dbfb",
   "metadata": {},
   "outputs": [],
   "source": [
    "# import libraries\n",
    "import pandas as pd \n",
    "import numpy as np\n",
    "import seaborn as sns\n",
    "import matplotlib.pyplot as plt\n",
    "import scipy.stats as stats\n",
    "\n",
    "from sklearn.preprocessing import LabelEncoder, OrdinalEncoder\n",
    "import category_encoders as ce\n",
    "\n",
    "from sklearn.model_selection import train_test_split\n",
    "\n",
    "from sklearn.linear_model import LinearRegression,LogisticRegression\n",
    "from sklearn.naive_bayes import GaussianNB\n",
    "from sklearn.neighbors import KNeighborsClassifier\n",
    "from sklearn.tree import DecisionTreeClassifier\n",
    "from sklearn.ensemble import BaggingClassifier,RandomForestClassifier\n",
    "from sklearn.ensemble import AdaBoostClassifier,GradientBoostingClassifier\n",
    "from xgboost import XGBClassifier\n",
    "from sklearn.ensemble import VotingClassifier,StackingClassifier\n",
    "import xgboost as xgb\n",
    "\n",
    "from sklearn.metrics import classification_report,confusion_matrix,roc_auc_score,roc_curve,cohen_kappa_score\n",
    "from sklearn.metrics import accuracy_score,precision_score,recall_score,f1_score "
   ]
  },
  {
   "cell_type": "markdown",
   "id": "26216088",
   "metadata": {},
   "source": [
    "#### Load the dataset"
   ]
  },
  {
   "cell_type": "code",
   "execution_count": 80,
   "id": "5c0250fa",
   "metadata": {},
   "outputs": [],
   "source": [
    "x = pd.read_csv(\"train.csv\")\n",
    "y = pd.read_csv(\"test.csv\")"
   ]
  },
  {
   "cell_type": "code",
   "execution_count": 81,
   "id": "5dc9abd3",
   "metadata": {},
   "outputs": [
    {
     "name": "stdout",
     "output_type": "stream",
     "text": [
      "(54808, 13) (23490, 12)\n"
     ]
    }
   ],
   "source": [
    "print(x.shape,y.shape)"
   ]
  },
  {
   "cell_type": "markdown",
   "id": "7e1cd022",
   "metadata": {},
   "source": [
    "#### Combine the dataset"
   ]
  },
  {
   "cell_type": "code",
   "execution_count": 82,
   "id": "d4ece33d",
   "metadata": {},
   "outputs": [],
   "source": [
    "data = pd.concat([x,y])"
   ]
  },
  {
   "cell_type": "markdown",
   "id": "89c45783",
   "metadata": {},
   "source": [
    "#### Analyzing the final dataset"
   ]
  },
  {
   "cell_type": "code",
   "execution_count": 83,
   "id": "ab30b4f0",
   "metadata": {},
   "outputs": [
    {
     "data": {
      "text/html": [
       "<div>\n",
       "<style scoped>\n",
       "    .dataframe tbody tr th:only-of-type {\n",
       "        vertical-align: middle;\n",
       "    }\n",
       "\n",
       "    .dataframe tbody tr th {\n",
       "        vertical-align: top;\n",
       "    }\n",
       "\n",
       "    .dataframe thead th {\n",
       "        text-align: right;\n",
       "    }\n",
       "</style>\n",
       "<table border=\"1\" class=\"dataframe\">\n",
       "  <thead>\n",
       "    <tr style=\"text-align: right;\">\n",
       "      <th></th>\n",
       "      <th>employee_id</th>\n",
       "      <th>department</th>\n",
       "      <th>region</th>\n",
       "      <th>education</th>\n",
       "      <th>gender</th>\n",
       "      <th>recruitment_channel</th>\n",
       "      <th>no_of_trainings</th>\n",
       "      <th>age</th>\n",
       "      <th>previous_year_rating</th>\n",
       "      <th>length_of_service</th>\n",
       "      <th>awards_won?</th>\n",
       "      <th>avg_training_score</th>\n",
       "      <th>is_promoted</th>\n",
       "    </tr>\n",
       "  </thead>\n",
       "  <tbody>\n",
       "    <tr>\n",
       "      <th>0</th>\n",
       "      <td>65438</td>\n",
       "      <td>Sales &amp; Marketing</td>\n",
       "      <td>region_7</td>\n",
       "      <td>Master's &amp; above</td>\n",
       "      <td>f</td>\n",
       "      <td>sourcing</td>\n",
       "      <td>1</td>\n",
       "      <td>35</td>\n",
       "      <td>5.0</td>\n",
       "      <td>8</td>\n",
       "      <td>0</td>\n",
       "      <td>49</td>\n",
       "      <td>0.0</td>\n",
       "    </tr>\n",
       "    <tr>\n",
       "      <th>1</th>\n",
       "      <td>65141</td>\n",
       "      <td>Operations</td>\n",
       "      <td>region_22</td>\n",
       "      <td>Bachelor's</td>\n",
       "      <td>m</td>\n",
       "      <td>other</td>\n",
       "      <td>1</td>\n",
       "      <td>30</td>\n",
       "      <td>5.0</td>\n",
       "      <td>4</td>\n",
       "      <td>0</td>\n",
       "      <td>60</td>\n",
       "      <td>0.0</td>\n",
       "    </tr>\n",
       "    <tr>\n",
       "      <th>2</th>\n",
       "      <td>7513</td>\n",
       "      <td>Sales &amp; Marketing</td>\n",
       "      <td>region_19</td>\n",
       "      <td>Bachelor's</td>\n",
       "      <td>m</td>\n",
       "      <td>sourcing</td>\n",
       "      <td>1</td>\n",
       "      <td>34</td>\n",
       "      <td>3.0</td>\n",
       "      <td>7</td>\n",
       "      <td>0</td>\n",
       "      <td>50</td>\n",
       "      <td>0.0</td>\n",
       "    </tr>\n",
       "  </tbody>\n",
       "</table>\n",
       "</div>"
      ],
      "text/plain": [
       "   employee_id         department     region         education gender  \\\n",
       "0        65438  Sales & Marketing   region_7  Master's & above      f   \n",
       "1        65141         Operations  region_22        Bachelor's      m   \n",
       "2         7513  Sales & Marketing  region_19        Bachelor's      m   \n",
       "\n",
       "  recruitment_channel  no_of_trainings  age  previous_year_rating  \\\n",
       "0            sourcing                1   35                   5.0   \n",
       "1               other                1   30                   5.0   \n",
       "2            sourcing                1   34                   3.0   \n",
       "\n",
       "   length_of_service  awards_won?  avg_training_score  is_promoted  \n",
       "0                  8            0                  49          0.0  \n",
       "1                  4            0                  60          0.0  \n",
       "2                  7            0                  50          0.0  "
      ]
     },
     "execution_count": 83,
     "metadata": {},
     "output_type": "execute_result"
    }
   ],
   "source": [
    "data.head(3)"
   ]
  },
  {
   "cell_type": "code",
   "execution_count": 84,
   "id": "c5c876f3",
   "metadata": {},
   "outputs": [
    {
     "data": {
      "text/plain": [
       "(78298, 13)"
      ]
     },
     "execution_count": 84,
     "metadata": {},
     "output_type": "execute_result"
    }
   ],
   "source": [
    "data.shape"
   ]
  },
  {
   "cell_type": "code",
   "execution_count": 85,
   "id": "2b490d59",
   "metadata": {},
   "outputs": [
    {
     "data": {
      "text/html": [
       "<div>\n",
       "<style scoped>\n",
       "    .dataframe tbody tr th:only-of-type {\n",
       "        vertical-align: middle;\n",
       "    }\n",
       "\n",
       "    .dataframe tbody tr th {\n",
       "        vertical-align: top;\n",
       "    }\n",
       "\n",
       "    .dataframe thead th {\n",
       "        text-align: right;\n",
       "    }\n",
       "</style>\n",
       "<table border=\"1\" class=\"dataframe\">\n",
       "  <thead>\n",
       "    <tr style=\"text-align: right;\">\n",
       "      <th></th>\n",
       "      <th>count</th>\n",
       "      <th>mean</th>\n",
       "      <th>std</th>\n",
       "      <th>min</th>\n",
       "      <th>25%</th>\n",
       "      <th>50%</th>\n",
       "      <th>75%</th>\n",
       "      <th>max</th>\n",
       "    </tr>\n",
       "  </thead>\n",
       "  <tbody>\n",
       "    <tr>\n",
       "      <th>employee_id</th>\n",
       "      <td>78298.0</td>\n",
       "      <td>39149.500000</td>\n",
       "      <td>22602.830026</td>\n",
       "      <td>1.0</td>\n",
       "      <td>19575.25</td>\n",
       "      <td>39149.5</td>\n",
       "      <td>58723.75</td>\n",
       "      <td>78298.0</td>\n",
       "    </tr>\n",
       "    <tr>\n",
       "      <th>no_of_trainings</th>\n",
       "      <td>78298.0</td>\n",
       "      <td>1.253378</td>\n",
       "      <td>0.606766</td>\n",
       "      <td>1.0</td>\n",
       "      <td>1.00</td>\n",
       "      <td>1.0</td>\n",
       "      <td>1.00</td>\n",
       "      <td>10.0</td>\n",
       "    </tr>\n",
       "    <tr>\n",
       "      <th>age</th>\n",
       "      <td>78298.0</td>\n",
       "      <td>34.797619</td>\n",
       "      <td>7.665928</td>\n",
       "      <td>20.0</td>\n",
       "      <td>29.00</td>\n",
       "      <td>33.0</td>\n",
       "      <td>39.00</td>\n",
       "      <td>60.0</td>\n",
       "    </tr>\n",
       "    <tr>\n",
       "      <th>previous_year_rating</th>\n",
       "      <td>72362.0</td>\n",
       "      <td>3.332219</td>\n",
       "      <td>1.260982</td>\n",
       "      <td>1.0</td>\n",
       "      <td>3.00</td>\n",
       "      <td>3.0</td>\n",
       "      <td>4.00</td>\n",
       "      <td>5.0</td>\n",
       "    </tr>\n",
       "    <tr>\n",
       "      <th>length_of_service</th>\n",
       "      <td>78298.0</td>\n",
       "      <td>5.848974</td>\n",
       "      <td>4.248070</td>\n",
       "      <td>1.0</td>\n",
       "      <td>3.00</td>\n",
       "      <td>5.0</td>\n",
       "      <td>7.00</td>\n",
       "      <td>37.0</td>\n",
       "    </tr>\n",
       "    <tr>\n",
       "      <th>awards_won?</th>\n",
       "      <td>78298.0</td>\n",
       "      <td>0.023053</td>\n",
       "      <td>0.150073</td>\n",
       "      <td>0.0</td>\n",
       "      <td>0.00</td>\n",
       "      <td>0.0</td>\n",
       "      <td>0.00</td>\n",
       "      <td>1.0</td>\n",
       "    </tr>\n",
       "    <tr>\n",
       "      <th>avg_training_score</th>\n",
       "      <td>78298.0</td>\n",
       "      <td>63.349664</td>\n",
       "      <td>13.383664</td>\n",
       "      <td>39.0</td>\n",
       "      <td>51.00</td>\n",
       "      <td>60.0</td>\n",
       "      <td>76.00</td>\n",
       "      <td>99.0</td>\n",
       "    </tr>\n",
       "    <tr>\n",
       "      <th>is_promoted</th>\n",
       "      <td>54808.0</td>\n",
       "      <td>0.085170</td>\n",
       "      <td>0.279137</td>\n",
       "      <td>0.0</td>\n",
       "      <td>0.00</td>\n",
       "      <td>0.0</td>\n",
       "      <td>0.00</td>\n",
       "      <td>1.0</td>\n",
       "    </tr>\n",
       "  </tbody>\n",
       "</table>\n",
       "</div>"
      ],
      "text/plain": [
       "                        count          mean           std   min       25%  \\\n",
       "employee_id           78298.0  39149.500000  22602.830026   1.0  19575.25   \n",
       "no_of_trainings       78298.0      1.253378      0.606766   1.0      1.00   \n",
       "age                   78298.0     34.797619      7.665928  20.0     29.00   \n",
       "previous_year_rating  72362.0      3.332219      1.260982   1.0      3.00   \n",
       "length_of_service     78298.0      5.848974      4.248070   1.0      3.00   \n",
       "awards_won?           78298.0      0.023053      0.150073   0.0      0.00   \n",
       "avg_training_score    78298.0     63.349664     13.383664  39.0     51.00   \n",
       "is_promoted           54808.0      0.085170      0.279137   0.0      0.00   \n",
       "\n",
       "                          50%       75%      max  \n",
       "employee_id           39149.5  58723.75  78298.0  \n",
       "no_of_trainings           1.0      1.00     10.0  \n",
       "age                      33.0     39.00     60.0  \n",
       "previous_year_rating      3.0      4.00      5.0  \n",
       "length_of_service         5.0      7.00     37.0  \n",
       "awards_won?               0.0      0.00      1.0  \n",
       "avg_training_score       60.0     76.00     99.0  \n",
       "is_promoted               0.0      0.00      1.0  "
      ]
     },
     "execution_count": 85,
     "metadata": {},
     "output_type": "execute_result"
    }
   ],
   "source": [
    "data.describe().T"
   ]
  },
  {
   "cell_type": "code",
   "execution_count": 86,
   "id": "b590b5fc",
   "metadata": {},
   "outputs": [
    {
     "data": {
      "text/plain": [
       "employee_id             78298\n",
       "department                  9\n",
       "region                     34\n",
       "education                   3\n",
       "gender                      2\n",
       "recruitment_channel         3\n",
       "no_of_trainings            10\n",
       "age                        41\n",
       "previous_year_rating        5\n",
       "length_of_service          35\n",
       "awards_won?                 2\n",
       "avg_training_score         61\n",
       "is_promoted                 2\n",
       "dtype: int64"
      ]
     },
     "execution_count": 86,
     "metadata": {},
     "output_type": "execute_result"
    }
   ],
   "source": [
    "data.nunique()"
   ]
  },
  {
   "cell_type": "code",
   "execution_count": 87,
   "id": "9fc03bfd",
   "metadata": {},
   "outputs": [
    {
     "data": {
      "text/html": [
       "<div>\n",
       "<style scoped>\n",
       "    .dataframe tbody tr th:only-of-type {\n",
       "        vertical-align: middle;\n",
       "    }\n",
       "\n",
       "    .dataframe tbody tr th {\n",
       "        vertical-align: top;\n",
       "    }\n",
       "\n",
       "    .dataframe thead th {\n",
       "        text-align: right;\n",
       "    }\n",
       "</style>\n",
       "<table border=\"1\" class=\"dataframe\">\n",
       "  <thead>\n",
       "    <tr style=\"text-align: right;\">\n",
       "      <th></th>\n",
       "      <th>count</th>\n",
       "      <th>unique</th>\n",
       "      <th>top</th>\n",
       "      <th>freq</th>\n",
       "    </tr>\n",
       "  </thead>\n",
       "  <tbody>\n",
       "    <tr>\n",
       "      <th>department</th>\n",
       "      <td>78298</td>\n",
       "      <td>9</td>\n",
       "      <td>Sales &amp; Marketing</td>\n",
       "      <td>24155</td>\n",
       "    </tr>\n",
       "    <tr>\n",
       "      <th>region</th>\n",
       "      <td>78298</td>\n",
       "      <td>34</td>\n",
       "      <td>region_2</td>\n",
       "      <td>17642</td>\n",
       "    </tr>\n",
       "    <tr>\n",
       "      <th>education</th>\n",
       "      <td>74855</td>\n",
       "      <td>3</td>\n",
       "      <td>Bachelor's</td>\n",
       "      <td>52247</td>\n",
       "    </tr>\n",
       "    <tr>\n",
       "      <th>gender</th>\n",
       "      <td>78298</td>\n",
       "      <td>2</td>\n",
       "      <td>m</td>\n",
       "      <td>55092</td>\n",
       "    </tr>\n",
       "    <tr>\n",
       "      <th>recruitment_channel</th>\n",
       "      <td>78298</td>\n",
       "      <td>3</td>\n",
       "      <td>other</td>\n",
       "      <td>43524</td>\n",
       "    </tr>\n",
       "  </tbody>\n",
       "</table>\n",
       "</div>"
      ],
      "text/plain": [
       "                     count unique                top   freq\n",
       "department           78298      9  Sales & Marketing  24155\n",
       "region               78298     34           region_2  17642\n",
       "education            74855      3         Bachelor's  52247\n",
       "gender               78298      2                  m  55092\n",
       "recruitment_channel  78298      3              other  43524"
      ]
     },
     "execution_count": 87,
     "metadata": {},
     "output_type": "execute_result"
    }
   ],
   "source": [
    "data.describe(include='object').T"
   ]
  },
  {
   "cell_type": "code",
   "execution_count": 88,
   "id": "f364e3a4",
   "metadata": {},
   "outputs": [
    {
     "data": {
      "text/plain": [
       "employee_id               int64\n",
       "department               object\n",
       "region                   object\n",
       "education                object\n",
       "gender                   object\n",
       "recruitment_channel      object\n",
       "no_of_trainings           int64\n",
       "age                       int64\n",
       "previous_year_rating    float64\n",
       "length_of_service         int64\n",
       "awards_won?               int64\n",
       "avg_training_score        int64\n",
       "is_promoted             float64\n",
       "dtype: object"
      ]
     },
     "execution_count": 88,
     "metadata": {},
     "output_type": "execute_result"
    }
   ],
   "source": [
    "data.dtypes"
   ]
  },
  {
   "cell_type": "markdown",
   "id": "4e5790af",
   "metadata": {},
   "source": [
    "#### Dividing the dataset into category and numerical columns."
   ]
  },
  {
   "cell_type": "code",
   "execution_count": 89,
   "id": "80367f87",
   "metadata": {},
   "outputs": [
    {
     "data": {
      "text/plain": [
       "Index(['employee_id', 'department', 'region', 'education', 'gender',\n",
       "       'recruitment_channel', 'no_of_trainings', 'age', 'previous_year_rating',\n",
       "       'length_of_service', 'awards_won?', 'avg_training_score',\n",
       "       'is_promoted'],\n",
       "      dtype='object')"
      ]
     },
     "execution_count": 89,
     "metadata": {},
     "output_type": "execute_result"
    }
   ],
   "source": [
    "data.columns"
   ]
  },
  {
   "cell_type": "code",
   "execution_count": 90,
   "id": "a82a3703",
   "metadata": {},
   "outputs": [
    {
     "name": "stdout",
     "output_type": "stream",
     "text": [
      "employee_id:\n",
      "65438    1\n",
      "30254    1\n",
      "5278     1\n",
      "19976    1\n",
      "74405    1\n",
      "        ..\n",
      "74473    1\n",
      "34077    1\n",
      "71531    1\n",
      "7803     1\n",
      "5973     1\n",
      "Name: employee_id, Length: 78298, dtype: int64\n",
      "\n",
      "department:\n",
      "Sales & Marketing    24155\n",
      "Operations           16112\n",
      "Procurement          10158\n",
      "Technology           10149\n",
      "Analytics             7671\n",
      "Finance               3627\n",
      "HR                    3503\n",
      "Legal                 1484\n",
      "R&D                   1439\n",
      "Name: department, dtype: int64\n",
      "\n",
      "region:\n",
      "region_2     17642\n",
      "region_22     9167\n",
      "region_7      6825\n",
      "region_15     3938\n",
      "region_13     3815\n",
      "region_26     3271\n",
      "region_31     2779\n",
      "region_4      2478\n",
      "region_27     2369\n",
      "region_16     2055\n",
      "region_28     1913\n",
      "region_11     1886\n",
      "region_23     1691\n",
      "region_29     1408\n",
      "region_32     1378\n",
      "region_19     1284\n",
      "region_14     1177\n",
      "region_20     1176\n",
      "region_17     1157\n",
      "region_25     1156\n",
      "region_5      1108\n",
      "region_6       988\n",
      "region_30      930\n",
      "region_8       924\n",
      "region_10      917\n",
      "region_1       848\n",
      "region_24      727\n",
      "region_12      715\n",
      "region_9       600\n",
      "region_21      590\n",
      "region_3       493\n",
      "region_34      447\n",
      "region_33      395\n",
      "region_18       51\n",
      "Name: region, dtype: int64\n",
      "\n",
      "education:\n",
      "Bachelor's          52247\n",
      "Master's & above    21429\n",
      "Below Secondary      1179\n",
      "Name: education, dtype: int64\n",
      "\n",
      "gender:\n",
      "m    55092\n",
      "f    23206\n",
      "Name: gender, dtype: int64\n",
      "\n",
      "recruitment_channel:\n",
      "other       43524\n",
      "sourcing    33181\n",
      "referred     1593\n",
      "Name: recruitment_channel, dtype: int64\n",
      "\n",
      "no_of_trainings:\n",
      "1     63306\n",
      "2     11531\n",
      "3      2531\n",
      "4       658\n",
      "5       164\n",
      "6        68\n",
      "7        21\n",
      "8         7\n",
      "9         7\n",
      "10        5\n",
      "Name: no_of_trainings, dtype: int64\n",
      "\n",
      "age:\n",
      "30    5260\n",
      "31    5060\n",
      "32    5015\n",
      "29    4861\n",
      "33    4597\n",
      "28    4509\n",
      "34    4397\n",
      "27    4061\n",
      "35    3880\n",
      "36    3539\n",
      "37    3064\n",
      "26    2917\n",
      "38    2785\n",
      "39    2446\n",
      "40    2338\n",
      "25    1885\n",
      "41    1874\n",
      "42    1624\n",
      "43    1427\n",
      "44    1203\n",
      "24    1181\n",
      "45    1063\n",
      "46     974\n",
      "47     813\n",
      "48     777\n",
      "50     726\n",
      "49     650\n",
      "23     642\n",
      "51     550\n",
      "53     518\n",
      "52     518\n",
      "54     452\n",
      "55     429\n",
      "56     385\n",
      "57     333\n",
      "22     329\n",
      "58     317\n",
      "60     306\n",
      "59     292\n",
      "20     164\n",
      "21     137\n",
      "Name: age, dtype: int64\n",
      "\n",
      "previous_year_rating:\n",
      "3.0    26539\n",
      "5.0    16838\n",
      "4.0    14126\n",
      "1.0     8903\n",
      "2.0     5956\n",
      "Name: previous_year_rating, dtype: int64\n",
      "\n",
      "length_of_service:\n",
      "3     10066\n",
      "4      9747\n",
      "2      9554\n",
      "5      8424\n",
      "7      7895\n",
      "6      6772\n",
      "1      6539\n",
      "8      4146\n",
      "9      3699\n",
      "10     3134\n",
      "11     1268\n",
      "12     1122\n",
      "13      958\n",
      "15      833\n",
      "14      810\n",
      "16      760\n",
      "17      636\n",
      "18      558\n",
      "19      471\n",
      "20      190\n",
      "21      107\n",
      "23       96\n",
      "22       88\n",
      "24       88\n",
      "25       75\n",
      "26       55\n",
      "27       52\n",
      "28       42\n",
      "29       40\n",
      "31       27\n",
      "30       18\n",
      "32       11\n",
      "33       10\n",
      "34        6\n",
      "37        1\n",
      "Name: length_of_service, dtype: int64\n",
      "\n",
      "awards_won?:\n",
      "0    76493\n",
      "1     1805\n",
      "Name: awards_won?, dtype: int64\n",
      "\n",
      "avg_training_score:\n",
      "50    3943\n",
      "49    3825\n",
      "48    3521\n",
      "51    3370\n",
      "60    3044\n",
      "      ... \n",
      "98      51\n",
      "99      48\n",
      "41      37\n",
      "40       8\n",
      "39       3\n",
      "Name: avg_training_score, Length: 61, dtype: int64\n",
      "\n",
      "is_promoted:\n",
      "0.0    50140\n",
      "1.0     4668\n",
      "Name: is_promoted, dtype: int64\n",
      "\n"
     ]
    }
   ],
   "source": [
    "for i in data.columns:\n",
    "    print(f'{i}:\\n{data[i].value_counts()}\\n')"
   ]
  },
  {
   "cell_type": "code",
   "execution_count": 91,
   "id": "17983dff",
   "metadata": {},
   "outputs": [],
   "source": [
    "# From the above distribution of data we can see that employee id is column with all unique values,thus\n",
    "# it would be of not much use in analysis and model buliding.\n",
    "# Drop irrelevant column\n",
    "data.drop(columns='employee_id',inplace=True)"
   ]
  },
  {
   "cell_type": "code",
   "execution_count": 92,
   "id": "c1fe2a8a",
   "metadata": {},
   "outputs": [],
   "source": [
    "cat_cols = ['department', 'region', 'education', 'gender','recruitment_channel', 'no_of_trainings',\n",
    "           'previous_year_rating', 'awards_won?','is_promoted']\n",
    "num_cols = ['age','length_of_service', 'avg_training_score',]\n",
    "           "
   ]
  },
  {
   "cell_type": "markdown",
   "id": "445b7896",
   "metadata": {},
   "source": [
    "### Data visualization"
   ]
  },
  {
   "cell_type": "markdown",
   "id": "60adaf49",
   "metadata": {},
   "source": [
    "#### Univariate analysis"
   ]
  },
  {
   "cell_type": "code",
   "execution_count": 93,
   "id": "42410c0b",
   "metadata": {},
   "outputs": [
    {
     "data": {
      "text/plain": [
       "9"
      ]
     },
     "execution_count": 93,
     "metadata": {},
     "output_type": "execute_result"
    }
   ],
   "source": [
    "len(cat_cols)"
   ]
  },
  {
   "cell_type": "code",
   "execution_count": 94,
   "id": "63221101",
   "metadata": {},
   "outputs": [
    {
     "data": {
      "image/png": "[encoded data removed]",
      "text/plain": [
       "<Figure size 1440x1440 with 8 Axes>"
      ]
     },
     "metadata": {
      "needs_background": "light"
     },
     "output_type": "display_data"
    }
   ],
   "source": [
    "# Category columns\n",
    "cat_cols0=['department','education', 'gender','recruitment_channel', 'no_of_trainings',\n",
    "           'previous_year_rating', 'awards_won?','is_promoted']\n",
    "t=1\n",
    "plt.figure(figsize=(20,20))\n",
    "plt.suptitle('Univariate Analysis(Category)',size = 34,color =\"red\")\n",
    "for i in cat_cols0:\n",
    "    plt.subplot(4,2,t)\n",
    "    sns.countplot(x=data[i],order=data[i].value_counts().index)\n",
    "    t+=1\n",
    "plt.tight_layout()\n",
    "plt.show()\n",
    "    "
   ]
  },
  {
   "cell_type": "markdown",
   "id": "0a52aea6",
   "metadata": {},
   "source": [
    "#### Inferences:\n",
    "- Department\n",
    " - sales & marketing team have most number of employees and R&D team have least number of employees.\n",
    "\n",
    "- Education\n",
    " - Most employees have just Bachelor's Degree.\n",
    " \n",
    "- Gender\n",
    " - Males are in majority.\n",
    " \n",
    "- Recritment_channel\n",
    " - Primary source of recruiting is other sources.\n",
    " \n",
    "- Num of trainings\n",
    " - Most employees have 1 training experience.\n",
    " \n",
    "- Previous_year_rating\n",
    " - Majority have 3 ratings.\n",
    " \n",
    "- Awards_won\n",
    " - Very few have won awards.\n",
    " \n",
    "- Is_promoted(target variable)\n",
    " - Very few are selected for promotion"
   ]
  },
  {
   "cell_type": "code",
   "execution_count": 95,
   "id": "4746aeff",
   "metadata": {
    "scrolled": true
   },
   "outputs": [
    {
     "data": {
      "image/png": "[encoded data removed]",
      "text/plain": [
       "<Figure size 432x288 with 1 Axes>"
      ]
     },
     "metadata": {
      "needs_background": "light"
     },
     "output_type": "display_data"
    }
   ],
   "source": [
    "# Num_cols\n",
    "sns.histplot(data['age'], kde=True, bins=30)\n",
    "plt.title(f'Distribution of Age,skewness : {round(data[\"age\"].skew(),2)}')\n",
    "plt.xlabel('Age')\n",
    "plt.ylabel('Frequency')\n",
    "plt.show()"
   ]
  },
  {
   "cell_type": "markdown",
   "id": "953df5b9",
   "metadata": {},
   "source": [
    "- We can see that the data is positively skewed\n",
    "- Most of the employees is between age of 28 and 34."
   ]
  },
  {
   "cell_type": "code",
   "execution_count": 96,
   "id": "33c23a38",
   "metadata": {},
   "outputs": [
    {
     "data": {
      "image/png": "[encoded data removed]",
      "text/plain": [
       "<Figure size 864x432 with 1 Axes>"
      ]
     },
     "metadata": {
      "needs_background": "light"
     },
     "output_type": "display_data"
    }
   ],
   "source": [
    "# Length of Service\n",
    "plt.figure(figsize=(12, 6))\n",
    "sns.histplot(data['length_of_service'], kde=True, bins=30)\n",
    "plt.title(f'Distribution of Length of Service,skewness : {round(data[\"length_of_service\"].skew(),2)}')\n",
    "plt.xlabel('Length of Service (years)')\n",
    "plt.ylabel('Frequency')\n",
    "plt.show()"
   ]
  },
  {
   "cell_type": "markdown",
   "id": "9d97cf1f",
   "metadata": {},
   "source": [
    "- Data is highly postively skewed\n",
    "- Mostly there are newly hired employees."
   ]
  },
  {
   "cell_type": "code",
   "execution_count": 97,
   "id": "4af15a60",
   "metadata": {},
   "outputs": [
    {
     "data": {
      "image/png": "[encoded data removed]",
      "text/plain": [
       "<Figure size 432x288 with 1 Axes>"
      ]
     },
     "metadata": {
      "needs_background": "light"
     },
     "output_type": "display_data"
    }
   ],
   "source": [
    "# Histogram of average training score\n",
    "sns.histplot(data['avg_training_score'], kde=True, bins=30)\n",
    "plt.title(f'Distribution of Average Training Score,skewness:{round(data[\"avg_training_score\"].skew(),2)}')\n",
    "plt.xlabel('Average Training Score')\n",
    "plt.ylabel('Frequency')\n",
    "plt.show()\n"
   ]
  },
  {
   "cell_type": "markdown",
   "id": "bd11da82",
   "metadata": {},
   "source": [
    "- Data is normally distributred."
   ]
  },
  {
   "cell_type": "markdown",
   "id": "d4772195",
   "metadata": {},
   "source": [
    "### Bivariate analysis"
   ]
  },
  {
   "cell_type": "code",
   "execution_count": 98,
   "id": "e196d95a",
   "metadata": {},
   "outputs": [
    {
     "data": {
      "image/png": "[encoded data removed]",
      "text/plain": [
       "<Figure size 1296x1728 with 7 Axes>"
      ]
     },
     "metadata": {
      "needs_background": "light"
     },
     "output_type": "display_data"
    }
   ],
   "source": [
    "plt.figure(figsize=(18,24))\n",
    "t=1\n",
    "for i in cat_cols0:\n",
    "    if i != 'is_promoted':\n",
    "        plt.subplot(4,2,t)\n",
    "        sns.countplot(x=i, hue='is_promoted', data=data,order = data[i].value_counts().index)\n",
    "        plt.title(f'Promotion Status by {i}')\n",
    "        plt.xlabel(i)\n",
    "        plt.ylabel('Count')\n",
    "        plt.legend(title='Is Promoted')\n",
    "        t+=1\n",
    "plt.tight_layout()\n",
    "plt.show()"
   ]
  },
  {
   "cell_type": "code",
   "execution_count": 99,
   "id": "b278cdcd",
   "metadata": {},
   "outputs": [
    {
     "data": {
      "image/png": "[encoded data removed]",
      "text/plain": [
       "<Figure size 864x432 with 3 Axes>"
      ]
     },
     "metadata": {
      "needs_background": "light"
     },
     "output_type": "display_data"
    }
   ],
   "source": [
    "# Num vs Cat\n",
    "t=1\n",
    "plt.figure(figsize=(12, 6))\n",
    "for i in num_cols:\n",
    "    plt.subplot(2,2,t)\n",
    "    sns.boxplot(y=i, x='is_promoted', data=data)\n",
    "    plt.title(f'{i} by Promotion Status')\n",
    "    plt.ylabel(i)\n",
    "    plt.xlabel('is_promoted')\n",
    "    t+=1\n",
    "plt.tight_layout()\n",
    "plt.show()\n"
   ]
  },
  {
   "cell_type": "markdown",
   "id": "a81233f6",
   "metadata": {},
   "source": [
    "- We can see presence of outliers clearly in the dataset(age,lenth_of_service).\n",
    "- Not much effect of age,length_of_service in promotion.\n",
    "- Training has good impact on promotion and the most chances for promotion is for employees havinf training score approx 70."
   ]
  },
  {
   "cell_type": "markdown",
   "id": "20599108",
   "metadata": {},
   "source": [
    "### Treating defects in the dataset."
   ]
  },
  {
   "cell_type": "markdown",
   "id": "5e1c88c2",
   "metadata": {},
   "source": [
    "##### Null values treatment"
   ]
  },
  {
   "cell_type": "code",
   "execution_count": 100,
   "id": "31072102",
   "metadata": {},
   "outputs": [
    {
     "data": {
      "text/plain": [
       "department               0.00\n",
       "region                   0.00\n",
       "education                4.40\n",
       "gender                   0.00\n",
       "recruitment_channel      0.00\n",
       "no_of_trainings          0.00\n",
       "age                      0.00\n",
       "previous_year_rating     7.58\n",
       "length_of_service        0.00\n",
       "awards_won?              0.00\n",
       "avg_training_score       0.00\n",
       "is_promoted             30.00\n",
       "dtype: float64"
      ]
     },
     "execution_count": 100,
     "metadata": {},
     "output_type": "execute_result"
    }
   ],
   "source": [
    "# Null values treatment\n",
    "round((data.isnull().sum()/data.shape[0])*100,2)\n",
    "# percent of null values in each column"
   ]
  },
  {
   "cell_type": "code",
   "execution_count": 101,
   "id": "5187c0ea",
   "metadata": {},
   "outputs": [
    {
     "data": {
      "text/plain": [
       "department                  0\n",
       "region                      0\n",
       "education                3443\n",
       "gender                      0\n",
       "recruitment_channel         0\n",
       "no_of_trainings             0\n",
       "age                         0\n",
       "previous_year_rating     5936\n",
       "length_of_service           0\n",
       "awards_won?                 0\n",
       "avg_training_score          0\n",
       "is_promoted             23490\n",
       "dtype: int64"
      ]
     },
     "execution_count": 101,
     "metadata": {},
     "output_type": "execute_result"
    }
   ],
   "source": [
    "# Null values treatment\n",
    "data.isnull().sum()\n",
    "# number of null rows"
   ]
  },
  {
   "cell_type": "code",
   "execution_count": 102,
   "id": "29152f28",
   "metadata": {},
   "outputs": [
    {
     "data": {
      "text/plain": [
       "(23490, 12)"
      ]
     },
     "execution_count": 102,
     "metadata": {},
     "output_type": "execute_result"
    }
   ],
   "source": [
    "y.shape # it defines the null values in column 'is_promoted'"
   ]
  },
  {
   "cell_type": "code",
   "execution_count": 103,
   "id": "56b49059",
   "metadata": {},
   "outputs": [
    {
     "data": {
      "text/plain": [
       "<AxesSubplot:xlabel='length_of_service', ylabel='previous_year_rating'>"
      ]
     },
     "execution_count": 103,
     "metadata": {},
     "output_type": "execute_result"
    },
    {
     "data": {
      "image/png": "[encoded data removed]",
      "text/plain": [
       "<Figure size 432x288 with 1 Axes>"
      ]
     },
     "metadata": {
      "needs_background": "light"
     },
     "output_type": "display_data"
    }
   ],
   "source": [
    "# Treating null values in previous year rating column.\n",
    "sns.regplot(y=data['previous_year_rating'].fillna(0),x=data['length_of_service'])"
   ]
  },
  {
   "cell_type": "code",
   "execution_count": 104,
   "id": "3c594845",
   "metadata": {},
   "outputs": [],
   "source": [
    "# From this we can see that the null values is only in column of freshers cause they are new joinee\n",
    "# so,company have no previous year rating for them so let's impute it with 0."
   ]
  },
  {
   "cell_type": "code",
   "execution_count": 105,
   "id": "d289a545",
   "metadata": {},
   "outputs": [],
   "source": [
    "data['previous_year_rating'].fillna(0,inplace=True)"
   ]
  },
  {
   "cell_type": "code",
   "execution_count": 106,
   "id": "0448464d",
   "metadata": {},
   "outputs": [
    {
     "data": {
      "text/plain": [
       "<AxesSubplot:xlabel='education'>"
      ]
     },
     "execution_count": 106,
     "metadata": {},
     "output_type": "execute_result"
    },
    {
     "data": {
      "image/png": "[encoded data removed]",
      "text/plain": [
       "<Figure size 432x288 with 1 Axes>"
      ]
     },
     "metadata": {
      "needs_background": "light"
     },
     "output_type": "display_data"
    }
   ],
   "source": [
    "# Treating null values in education column.\n",
    "pd.crosstab(index=data['education'].fillna('no information'),columns=data['department']).plot(kind='bar')\n",
    "# As we can see null values for education column is in each dept so, we can assume these values are left \n",
    "# by mistake while filing.\n",
    "# since it is categorical column we cannot use mean to fill null and median won't make much sense so,let,\n",
    "# fill null values with mode."
   ]
  },
  {
   "cell_type": "code",
   "execution_count": 107,
   "id": "f64a6b79",
   "metadata": {},
   "outputs": [],
   "source": [
    "data['education'].fillna(data['education'].mode()[0],inplace=True)"
   ]
  },
  {
   "cell_type": "code",
   "execution_count": 108,
   "id": "d4765b2b",
   "metadata": {},
   "outputs": [
    {
     "data": {
      "text/plain": [
       "0    Bachelor's\n",
       "Name: education, dtype: object"
      ]
     },
     "execution_count": 108,
     "metadata": {},
     "output_type": "execute_result"
    }
   ],
   "source": [
    "data['education'].mode()"
   ]
  },
  {
   "cell_type": "markdown",
   "id": "f5777208",
   "metadata": {},
   "source": [
    "##### Outlier treatment"
   ]
  },
  {
   "cell_type": "code",
   "execution_count": 109,
   "id": "03b7b11e",
   "metadata": {},
   "outputs": [
    {
     "data": {
      "text/plain": [
       "(78298, 12)"
      ]
     },
     "execution_count": 109,
     "metadata": {},
     "output_type": "execute_result"
    }
   ],
   "source": [
    "data.shape"
   ]
  },
  {
   "cell_type": "code",
   "execution_count": 110,
   "id": "4613f4af",
   "metadata": {},
   "outputs": [
    {
     "name": "stdout",
     "output_type": "stream",
     "text": [
      "Total number of outliers in age:2062\n"
     ]
    }
   ],
   "source": [
    "Q1 = data['age'].quantile(0.25)\n",
    "Q3 = data['age'].quantile(0.75)\n",
    "IQR = Q3 - Q1\n",
    "\n",
    "lower_bound = Q1 - 1.5 * IQR\n",
    "upper_bound = Q3 + 1.5 * IQR\n",
    "\n",
    "# Count outliers\n",
    "u=data[data['age'] > upper_bound].shape[0]\n",
    "l=data[data['age'] < lower_bound].shape[0]\n",
    "print(f'Total number of outliers in age:{u+l}')\n"
   ]
  },
  {
   "cell_type": "code",
   "execution_count": 111,
   "id": "0b922638",
   "metadata": {},
   "outputs": [
    {
     "name": "stdout",
     "output_type": "stream",
     "text": [
      "Total number of outliers in length of service:4974\n"
     ]
    }
   ],
   "source": [
    "Q1 = data['length_of_service'].quantile(0.25)\n",
    "Q3 = data['length_of_service'].quantile(0.75)\n",
    "IQR = Q3 - Q1\n",
    "\n",
    "lower_bound = Q1 - 1.5 * IQR\n",
    "upper_bound = Q3 + 1.5 * IQR\n",
    "\n",
    "# Count outliers\n",
    "u=data[data['length_of_service'] > upper_bound].shape[0]\n",
    "l=data[data['length_of_service'] < lower_bound].shape[0]\n",
    "print(f'Total number of outliers in length of service:{u+l}')\n"
   ]
  },
  {
   "cell_type": "code",
   "execution_count": 112,
   "id": "0d41c793",
   "metadata": {},
   "outputs": [],
   "source": [
    "# let's first try model with outliers,cause in promotion age and length of service plays crucial role."
   ]
  },
  {
   "cell_type": "code",
   "execution_count": 113,
   "id": "c7954077",
   "metadata": {},
   "outputs": [
    {
     "data": {
      "text/plain": [
       "<AxesSubplot:xlabel='age', ylabel='length_of_service'>"
      ]
     },
     "execution_count": 113,
     "metadata": {},
     "output_type": "execute_result"
    },
    {
     "data": {
      "image/png": "[encoded data removed]",
      "text/plain": [
       "<Figure size 432x288 with 1 Axes>"
      ]
     },
     "metadata": {
      "needs_background": "light"
     },
     "output_type": "display_data"
    }
   ],
   "source": [
    "sns.regplot(x=data['age'],y=data['length_of_service'],line_kws={'color':'red'})"
   ]
  },
  {
   "cell_type": "code",
   "execution_count": 114,
   "id": "8a68f7da",
   "metadata": {},
   "outputs": [],
   "source": [
    "# we can see age is directly proportional to length of service"
   ]
  },
  {
   "cell_type": "code",
   "execution_count": 115,
   "id": "2db11c23",
   "metadata": {},
   "outputs": [
    {
     "data": {
      "text/plain": [
       "<AxesSubplot:>"
      ]
     },
     "execution_count": 115,
     "metadata": {},
     "output_type": "execute_result"
    },
    {
     "data": {
      "image/png": "[encoded data removed]",
      "text/plain": [
       "<Figure size 432x288 with 2 Axes>"
      ]
     },
     "metadata": {
      "needs_background": "light"
     },
     "output_type": "display_data"
    }
   ],
   "source": [
    "sns.heatmap(data.corr(),vmin=-1,vmax=1,cmap='rainbow')"
   ]
  },
  {
   "cell_type": "code",
   "execution_count": 116,
   "id": "272b0c01",
   "metadata": {},
   "outputs": [
    {
     "data": {
      "text/html": [
       "<div>\n",
       "<style scoped>\n",
       "    .dataframe tbody tr th:only-of-type {\n",
       "        vertical-align: middle;\n",
       "    }\n",
       "\n",
       "    .dataframe tbody tr th {\n",
       "        vertical-align: top;\n",
       "    }\n",
       "\n",
       "    .dataframe thead th {\n",
       "        text-align: right;\n",
       "    }\n",
       "</style>\n",
       "<table border=\"1\" class=\"dataframe\">\n",
       "  <thead>\n",
       "    <tr style=\"text-align: right;\">\n",
       "      <th></th>\n",
       "      <th>department</th>\n",
       "      <th>region</th>\n",
       "      <th>education</th>\n",
       "      <th>gender</th>\n",
       "      <th>recruitment_channel</th>\n",
       "      <th>no_of_trainings</th>\n",
       "      <th>age</th>\n",
       "      <th>previous_year_rating</th>\n",
       "      <th>length_of_service</th>\n",
       "      <th>awards_won?</th>\n",
       "      <th>avg_training_score</th>\n",
       "      <th>is_promoted</th>\n",
       "    </tr>\n",
       "  </thead>\n",
       "  <tbody>\n",
       "    <tr>\n",
       "      <th>0</th>\n",
       "      <td>Sales &amp; Marketing</td>\n",
       "      <td>region_7</td>\n",
       "      <td>Master's &amp; above</td>\n",
       "      <td>f</td>\n",
       "      <td>sourcing</td>\n",
       "      <td>1</td>\n",
       "      <td>35</td>\n",
       "      <td>5.0</td>\n",
       "      <td>8</td>\n",
       "      <td>0</td>\n",
       "      <td>49</td>\n",
       "      <td>0.0</td>\n",
       "    </tr>\n",
       "    <tr>\n",
       "      <th>1</th>\n",
       "      <td>Operations</td>\n",
       "      <td>region_22</td>\n",
       "      <td>Bachelor's</td>\n",
       "      <td>m</td>\n",
       "      <td>other</td>\n",
       "      <td>1</td>\n",
       "      <td>30</td>\n",
       "      <td>5.0</td>\n",
       "      <td>4</td>\n",
       "      <td>0</td>\n",
       "      <td>60</td>\n",
       "      <td>0.0</td>\n",
       "    </tr>\n",
       "    <tr>\n",
       "      <th>2</th>\n",
       "      <td>Sales &amp; Marketing</td>\n",
       "      <td>region_19</td>\n",
       "      <td>Bachelor's</td>\n",
       "      <td>m</td>\n",
       "      <td>sourcing</td>\n",
       "      <td>1</td>\n",
       "      <td>34</td>\n",
       "      <td>3.0</td>\n",
       "      <td>7</td>\n",
       "      <td>0</td>\n",
       "      <td>50</td>\n",
       "      <td>0.0</td>\n",
       "    </tr>\n",
       "  </tbody>\n",
       "</table>\n",
       "</div>"
      ],
      "text/plain": [
       "          department     region         education gender recruitment_channel  \\\n",
       "0  Sales & Marketing   region_7  Master's & above      f            sourcing   \n",
       "1         Operations  region_22        Bachelor's      m               other   \n",
       "2  Sales & Marketing  region_19        Bachelor's      m            sourcing   \n",
       "\n",
       "   no_of_trainings  age  previous_year_rating  length_of_service  awards_won?  \\\n",
       "0                1   35                   5.0                  8            0   \n",
       "1                1   30                   5.0                  4            0   \n",
       "2                1   34                   3.0                  7            0   \n",
       "\n",
       "   avg_training_score  is_promoted  \n",
       "0                  49          0.0  \n",
       "1                  60          0.0  \n",
       "2                  50          0.0  "
      ]
     },
     "execution_count": 116,
     "metadata": {},
     "output_type": "execute_result"
    }
   ],
   "source": [
    "data.head(3)"
   ]
  },
  {
   "cell_type": "markdown",
   "id": "7333b82f",
   "metadata": {},
   "source": [
    "#### Encoding"
   ]
  },
  {
   "cell_type": "code",
   "execution_count": 117,
   "id": "2a876712",
   "metadata": {},
   "outputs": [
    {
     "data": {
      "text/html": [
       "<div>\n",
       "<style scoped>\n",
       "    .dataframe tbody tr th:only-of-type {\n",
       "        vertical-align: middle;\n",
       "    }\n",
       "\n",
       "    .dataframe tbody tr th {\n",
       "        vertical-align: top;\n",
       "    }\n",
       "\n",
       "    .dataframe thead th {\n",
       "        text-align: right;\n",
       "    }\n",
       "</style>\n",
       "<table border=\"1\" class=\"dataframe\">\n",
       "  <thead>\n",
       "    <tr style=\"text-align: right;\">\n",
       "      <th></th>\n",
       "      <th>region_0</th>\n",
       "      <th>region_1</th>\n",
       "      <th>region_2</th>\n",
       "      <th>region_3</th>\n",
       "      <th>region_4</th>\n",
       "      <th>region_5</th>\n",
       "      <th>education</th>\n",
       "      <th>no_of_trainings</th>\n",
       "      <th>age</th>\n",
       "      <th>previous_year_rating</th>\n",
       "      <th>...</th>\n",
       "      <th>department_HR</th>\n",
       "      <th>department_Legal</th>\n",
       "      <th>department_Operations</th>\n",
       "      <th>department_Procurement</th>\n",
       "      <th>department_R&amp;D</th>\n",
       "      <th>department_Sales &amp; Marketing</th>\n",
       "      <th>department_Technology</th>\n",
       "      <th>gender_m</th>\n",
       "      <th>recruitment_channel_referred</th>\n",
       "      <th>recruitment_channel_sourcing</th>\n",
       "    </tr>\n",
       "  </thead>\n",
       "  <tbody>\n",
       "    <tr>\n",
       "      <th>0</th>\n",
       "      <td>0</td>\n",
       "      <td>0</td>\n",
       "      <td>0</td>\n",
       "      <td>0</td>\n",
       "      <td>0</td>\n",
       "      <td>1</td>\n",
       "      <td>2.0</td>\n",
       "      <td>1</td>\n",
       "      <td>35</td>\n",
       "      <td>5</td>\n",
       "      <td>...</td>\n",
       "      <td>0</td>\n",
       "      <td>0</td>\n",
       "      <td>0</td>\n",
       "      <td>0</td>\n",
       "      <td>0</td>\n",
       "      <td>1</td>\n",
       "      <td>0</td>\n",
       "      <td>0</td>\n",
       "      <td>0</td>\n",
       "      <td>1</td>\n",
       "    </tr>\n",
       "    <tr>\n",
       "      <th>1</th>\n",
       "      <td>0</td>\n",
       "      <td>0</td>\n",
       "      <td>0</td>\n",
       "      <td>0</td>\n",
       "      <td>1</td>\n",
       "      <td>0</td>\n",
       "      <td>1.0</td>\n",
       "      <td>1</td>\n",
       "      <td>30</td>\n",
       "      <td>5</td>\n",
       "      <td>...</td>\n",
       "      <td>0</td>\n",
       "      <td>0</td>\n",
       "      <td>1</td>\n",
       "      <td>0</td>\n",
       "      <td>0</td>\n",
       "      <td>0</td>\n",
       "      <td>0</td>\n",
       "      <td>1</td>\n",
       "      <td>0</td>\n",
       "      <td>0</td>\n",
       "    </tr>\n",
       "    <tr>\n",
       "      <th>2</th>\n",
       "      <td>0</td>\n",
       "      <td>0</td>\n",
       "      <td>0</td>\n",
       "      <td>0</td>\n",
       "      <td>1</td>\n",
       "      <td>1</td>\n",
       "      <td>1.0</td>\n",
       "      <td>1</td>\n",
       "      <td>34</td>\n",
       "      <td>3</td>\n",
       "      <td>...</td>\n",
       "      <td>0</td>\n",
       "      <td>0</td>\n",
       "      <td>0</td>\n",
       "      <td>0</td>\n",
       "      <td>0</td>\n",
       "      <td>1</td>\n",
       "      <td>0</td>\n",
       "      <td>1</td>\n",
       "      <td>0</td>\n",
       "      <td>1</td>\n",
       "    </tr>\n",
       "    <tr>\n",
       "      <th>3</th>\n",
       "      <td>0</td>\n",
       "      <td>0</td>\n",
       "      <td>0</td>\n",
       "      <td>1</td>\n",
       "      <td>0</td>\n",
       "      <td>0</td>\n",
       "      <td>1.0</td>\n",
       "      <td>2</td>\n",
       "      <td>39</td>\n",
       "      <td>1</td>\n",
       "      <td>...</td>\n",
       "      <td>0</td>\n",
       "      <td>0</td>\n",
       "      <td>0</td>\n",
       "      <td>0</td>\n",
       "      <td>0</td>\n",
       "      <td>1</td>\n",
       "      <td>0</td>\n",
       "      <td>1</td>\n",
       "      <td>0</td>\n",
       "      <td>0</td>\n",
       "    </tr>\n",
       "    <tr>\n",
       "      <th>4</th>\n",
       "      <td>0</td>\n",
       "      <td>0</td>\n",
       "      <td>0</td>\n",
       "      <td>1</td>\n",
       "      <td>0</td>\n",
       "      <td>1</td>\n",
       "      <td>1.0</td>\n",
       "      <td>1</td>\n",
       "      <td>45</td>\n",
       "      <td>3</td>\n",
       "      <td>...</td>\n",
       "      <td>0</td>\n",
       "      <td>0</td>\n",
       "      <td>0</td>\n",
       "      <td>0</td>\n",
       "      <td>0</td>\n",
       "      <td>0</td>\n",
       "      <td>1</td>\n",
       "      <td>1</td>\n",
       "      <td>0</td>\n",
       "      <td>0</td>\n",
       "    </tr>\n",
       "  </tbody>\n",
       "</table>\n",
       "<p>5 rows × 25 columns</p>\n",
       "</div>"
      ],
      "text/plain": [
       "   region_0  region_1  region_2  region_3  region_4  region_5  education  \\\n",
       "0         0         0         0         0         0         1        2.0   \n",
       "1         0         0         0         0         1         0        1.0   \n",
       "2         0         0         0         0         1         1        1.0   \n",
       "3         0         0         0         1         0         0        1.0   \n",
       "4         0         0         0         1         0         1        1.0   \n",
       "\n",
       "   no_of_trainings  age  previous_year_rating  ...  department_HR  \\\n",
       "0                1   35                     5  ...              0   \n",
       "1                1   30                     5  ...              0   \n",
       "2                1   34                     3  ...              0   \n",
       "3                2   39                     1  ...              0   \n",
       "4                1   45                     3  ...              0   \n",
       "\n",
       "   department_Legal  department_Operations  department_Procurement  \\\n",
       "0                 0                      0                       0   \n",
       "1                 0                      1                       0   \n",
       "2                 0                      0                       0   \n",
       "3                 0                      0                       0   \n",
       "4                 0                      0                       0   \n",
       "\n",
       "   department_R&D  department_Sales & Marketing  department_Technology  \\\n",
       "0               0                             1                      0   \n",
       "1               0                             0                      0   \n",
       "2               0                             1                      0   \n",
       "3               0                             1                      0   \n",
       "4               0                             0                      1   \n",
       "\n",
       "   gender_m  recruitment_channel_referred  recruitment_channel_sourcing  \n",
       "0         0                             0                             1  \n",
       "1         1                             0                             0  \n",
       "2         1                             0                             1  \n",
       "3         1                             0                             0  \n",
       "4         1                             0                             0  \n",
       "\n",
       "[5 rows x 25 columns]"
      ]
     },
     "execution_count": 117,
     "metadata": {},
     "output_type": "execute_result"
    }
   ],
   "source": [
    "# Ordinal Encoding for education\n",
    "education_order = [\"Below Secondary\", \"Bachelor's\", \"Master's & above\"]\n",
    "ordinal_encoder = OrdinalEncoder(categories=[education_order])\n",
    "data['education'] = ordinal_encoder.fit_transform(data[['education']])\n",
    "\n",
    "# Label Encoding for previous_year_rating\n",
    "le = LabelEncoder()\n",
    "data['previous_year_rating'] = le.fit_transform(data['previous_year_rating'])\n",
    "\n",
    "# One-Hot Encoding for nominal variables\n",
    "data = pd.get_dummies(data, columns=['department', 'gender', 'recruitment_channel'], drop_first=True)\n",
    "\n",
    "# Binary Encoding for high cardinality variable\n",
    "binary_encoder = ce.BinaryEncoder(cols=['region'])\n",
    "data = binary_encoder.fit_transform(data)\n",
    "\n",
    "# Check the final DataFrame\n",
    "data.head()\n",
    "\n"
   ]
  },
  {
   "cell_type": "markdown",
   "id": "6ec15e84",
   "metadata": {},
   "source": [
    "#### Split the dataset into it's original train and test format"
   ]
  },
  {
   "cell_type": "code",
   "execution_count": 118,
   "id": "48302962",
   "metadata": {},
   "outputs": [],
   "source": [
    "train_new = data[data['is_promoted'].notnull()]\n",
    "test_new = data[data['is_promoted'].isnull()]"
   ]
  },
  {
   "cell_type": "code",
   "execution_count": 119,
   "id": "235e3bed",
   "metadata": {},
   "outputs": [],
   "source": [
    "# Let's split train_new into dependent and independent variable\n",
    "x_n = train_new.drop(columns='is_promoted')\n",
    "y_n = train_new['is_promoted']"
   ]
  },
  {
   "cell_type": "code",
   "execution_count": 120,
   "id": "6b5e835c",
   "metadata": {},
   "outputs": [],
   "source": [
    "# Let's apply train test split\n",
    "x_train,x_test,y_train,y_test = train_test_split(x_n,y_n,train_size=0.7,random_state=2)"
   ]
  },
  {
   "cell_type": "code",
   "execution_count": 121,
   "id": "abfa7a82",
   "metadata": {},
   "outputs": [
    {
     "data": {
      "text/plain": [
       "0.0    0.915027\n",
       "1.0    0.084973\n",
       "Name: is_promoted, dtype: float64"
      ]
     },
     "execution_count": 121,
     "metadata": {},
     "output_type": "execute_result"
    }
   ],
   "source": [
    "# Let's check for data imbalance in target column.\n",
    "y_train.value_counts(normalize=True)"
   ]
  },
  {
   "cell_type": "code",
   "execution_count": 122,
   "id": "681c17fc",
   "metadata": {},
   "outputs": [],
   "source": [
    "# Let's treat the imbalance of data using Synthetic Minority Over-sampling Technique (SMOTE)"
   ]
  },
  {
   "cell_type": "code",
   "execution_count": 123,
   "id": "49379528",
   "metadata": {},
   "outputs": [],
   "source": [
    "from imblearn.over_sampling import SMOTE"
   ]
  },
  {
   "cell_type": "code",
   "execution_count": 124,
   "id": "29dfa203",
   "metadata": {},
   "outputs": [],
   "source": [
    "sm = SMOTE(sampling_strategy=0.666)"
   ]
  },
  {
   "cell_type": "code",
   "execution_count": 125,
   "id": "d8f8a795",
   "metadata": {},
   "outputs": [],
   "source": [
    "x_train_new,y_train_new = sm.fit_resample(x_train,y_train)"
   ]
  },
  {
   "cell_type": "code",
   "execution_count": 126,
   "id": "94142d35",
   "metadata": {},
   "outputs": [
    {
     "data": {
      "text/plain": [
       "0.0    0.60025\n",
       "1.0    0.39975\n",
       "Name: is_promoted, dtype: float64"
      ]
     },
     "execution_count": 126,
     "metadata": {},
     "output_type": "execute_result"
    }
   ],
   "source": [
    "y_train_new.value_counts(normalize=True)"
   ]
  },
  {
   "cell_type": "markdown",
   "id": "4bf733f2",
   "metadata": {},
   "source": [
    "#### MODEL "
   ]
  },
  {
   "cell_type": "code",
   "execution_count": 127,
   "id": "bf3acb30",
   "metadata": {},
   "outputs": [],
   "source": [
    "import statsmodels.api as sma"
   ]
  },
  {
   "cell_type": "code",
   "execution_count": 128,
   "id": "9911b8a0",
   "metadata": {},
   "outputs": [
    {
     "name": "stdout",
     "output_type": "stream",
     "text": [
      "Optimization terminated successfully.\n",
      "         Current function value: 0.442812\n",
      "         Iterations 7\n"
     ]
    }
   ],
   "source": [
    "model = sma.Logit(y_train_new,sma.add_constant(x_train_new)).fit()"
   ]
  },
  {
   "cell_type": "code",
   "execution_count": 129,
   "id": "19bf65ab",
   "metadata": {},
   "outputs": [
    {
     "data": {
      "text/html": [
       "<table class=\"simpletable\">\n",
       "<caption>Logit Regression Results</caption>\n",
       "<tr>\n",
       "  <th>Dep. Variable:</th>      <td>is_promoted</td>   <th>  No. Observations:  </th>  <td> 58484</td> \n",
       "</tr>\n",
       "<tr>\n",
       "  <th>Model:</th>                 <td>Logit</td>      <th>  Df Residuals:      </th>  <td> 58459</td> \n",
       "</tr>\n",
       "<tr>\n",
       "  <th>Method:</th>                 <td>MLE</td>       <th>  Df Model:          </th>  <td>    24</td> \n",
       "</tr>\n",
       "<tr>\n",
       "  <th>Date:</th>            <td>Thu, 13 Jun 2024</td> <th>  Pseudo R-squ.:     </th>  <td>0.3419</td> \n",
       "</tr>\n",
       "<tr>\n",
       "  <th>Time:</th>                <td>23:12:27</td>     <th>  Log-Likelihood:    </th> <td> -25897.</td>\n",
       "</tr>\n",
       "<tr>\n",
       "  <th>converged:</th>             <td>True</td>       <th>  LL-Null:           </th> <td> -39354.</td>\n",
       "</tr>\n",
       "<tr>\n",
       "  <th>Covariance Type:</th>     <td>nonrobust</td>    <th>  LLR p-value:       </th>  <td> 0.000</td> \n",
       "</tr>\n",
       "</table>\n",
       "<table class=\"simpletable\">\n",
       "<tr>\n",
       "                <td></td>                  <th>coef</th>     <th>std err</th>      <th>z</th>      <th>P>|z|</th>  <th>[0.025</th>    <th>0.975]</th>  \n",
       "</tr>\n",
       "<tr>\n",
       "  <th>const</th>                        <td>    1.6365</td> <td>    0.129</td> <td>   12.703</td> <td> 0.000</td> <td>    1.384</td> <td>    1.889</td>\n",
       "</tr>\n",
       "<tr>\n",
       "  <th>region_0</th>                     <td>   -3.4835</td> <td>    0.168</td> <td>  -20.692</td> <td> 0.000</td> <td>   -3.813</td> <td>   -3.154</td>\n",
       "</tr>\n",
       "<tr>\n",
       "  <th>region_1</th>                     <td>   -1.0808</td> <td>    0.030</td> <td>  -36.218</td> <td> 0.000</td> <td>   -1.139</td> <td>   -1.022</td>\n",
       "</tr>\n",
       "<tr>\n",
       "  <th>region_2</th>                     <td>   -1.2762</td> <td>    0.031</td> <td>  -41.569</td> <td> 0.000</td> <td>   -1.336</td> <td>   -1.216</td>\n",
       "</tr>\n",
       "<tr>\n",
       "  <th>region_3</th>                     <td>   -1.0204</td> <td>    0.023</td> <td>  -44.243</td> <td> 0.000</td> <td>   -1.066</td> <td>   -0.975</td>\n",
       "</tr>\n",
       "<tr>\n",
       "  <th>region_4</th>                     <td>   -1.0539</td> <td>    0.025</td> <td>  -41.765</td> <td> 0.000</td> <td>   -1.103</td> <td>   -1.004</td>\n",
       "</tr>\n",
       "<tr>\n",
       "  <th>region_5</th>                     <td>   -1.2047</td> <td>    0.027</td> <td>  -44.996</td> <td> 0.000</td> <td>   -1.257</td> <td>   -1.152</td>\n",
       "</tr>\n",
       "<tr>\n",
       "  <th>education</th>                    <td>    0.1959</td> <td>    0.026</td> <td>    7.423</td> <td> 0.000</td> <td>    0.144</td> <td>    0.248</td>\n",
       "</tr>\n",
       "<tr>\n",
       "  <th>no_of_trainings</th>              <td>   -1.0426</td> <td>    0.029</td> <td>  -35.713</td> <td> 0.000</td> <td>   -1.100</td> <td>   -0.985</td>\n",
       "</tr>\n",
       "<tr>\n",
       "  <th>age</th>                          <td>   -0.0225</td> <td>    0.002</td> <td>  -10.796</td> <td> 0.000</td> <td>   -0.027</td> <td>   -0.018</td>\n",
       "</tr>\n",
       "<tr>\n",
       "  <th>previous_year_rating</th>         <td>    0.2571</td> <td>    0.008</td> <td>   32.723</td> <td> 0.000</td> <td>    0.242</td> <td>    0.272</td>\n",
       "</tr>\n",
       "<tr>\n",
       "  <th>length_of_service</th>            <td>   -0.0269</td> <td>    0.004</td> <td>   -7.587</td> <td> 0.000</td> <td>   -0.034</td> <td>   -0.020</td>\n",
       "</tr>\n",
       "<tr>\n",
       "  <th>awards_won?</th>                  <td>    1.1037</td> <td>    0.073</td> <td>   15.074</td> <td> 0.000</td> <td>    0.960</td> <td>    1.247</td>\n",
       "</tr>\n",
       "<tr>\n",
       "  <th>avg_training_score</th>           <td>    0.0383</td> <td>    0.001</td> <td>   28.317</td> <td> 0.000</td> <td>    0.036</td> <td>    0.041</td>\n",
       "</tr>\n",
       "<tr>\n",
       "  <th>department_Finance</th>           <td>   -1.9473</td> <td>    0.074</td> <td>  -26.259</td> <td> 0.000</td> <td>   -2.093</td> <td>   -1.802</td>\n",
       "</tr>\n",
       "<tr>\n",
       "  <th>department_HR</th>                <td>   -2.3117</td> <td>    0.092</td> <td>  -25.007</td> <td> 0.000</td> <td>   -2.493</td> <td>   -2.131</td>\n",
       "</tr>\n",
       "<tr>\n",
       "  <th>department_Legal</th>             <td>   -2.7560</td> <td>    0.142</td> <td>  -19.430</td> <td> 0.000</td> <td>   -3.034</td> <td>   -2.478</td>\n",
       "</tr>\n",
       "<tr>\n",
       "  <th>department_Operations</th>        <td>   -1.2510</td> <td>    0.041</td> <td>  -30.642</td> <td> 0.000</td> <td>   -1.331</td> <td>   -1.171</td>\n",
       "</tr>\n",
       "<tr>\n",
       "  <th>department_Procurement</th>       <td>   -1.5487</td> <td>    0.041</td> <td>  -38.009</td> <td> 0.000</td> <td>   -1.629</td> <td>   -1.469</td>\n",
       "</tr>\n",
       "<tr>\n",
       "  <th>department_R&D</th>               <td>   -2.9424</td> <td>    0.115</td> <td>  -25.549</td> <td> 0.000</td> <td>   -3.168</td> <td>   -2.717</td>\n",
       "</tr>\n",
       "<tr>\n",
       "  <th>department_Sales & Marketing</th> <td>   -0.6702</td> <td>    0.047</td> <td>  -14.294</td> <td> 0.000</td> <td>   -0.762</td> <td>   -0.578</td>\n",
       "</tr>\n",
       "<tr>\n",
       "  <th>department_Technology</th>        <td>   -1.6697</td> <td>    0.038</td> <td>  -43.493</td> <td> 0.000</td> <td>   -1.745</td> <td>   -1.594</td>\n",
       "</tr>\n",
       "<tr>\n",
       "  <th>gender_m</th>                     <td>   -0.7138</td> <td>    0.024</td> <td>  -30.147</td> <td> 0.000</td> <td>   -0.760</td> <td>   -0.667</td>\n",
       "</tr>\n",
       "<tr>\n",
       "  <th>recruitment_channel_referred</th> <td>   -1.7985</td> <td>    0.107</td> <td>  -16.808</td> <td> 0.000</td> <td>   -2.008</td> <td>   -1.589</td>\n",
       "</tr>\n",
       "<tr>\n",
       "  <th>recruitment_channel_sourcing</th> <td>   -0.7517</td> <td>    0.023</td> <td>  -32.019</td> <td> 0.000</td> <td>   -0.798</td> <td>   -0.706</td>\n",
       "</tr>\n",
       "</table>"
      ],
      "text/plain": [
       "<class 'statsmodels.iolib.summary.Summary'>\n",
       "\"\"\"\n",
       "                           Logit Regression Results                           \n",
       "==============================================================================\n",
       "Dep. Variable:            is_promoted   No. Observations:                58484\n",
       "Model:                          Logit   Df Residuals:                    58459\n",
       "Method:                           MLE   Df Model:                           24\n",
       "Date:                Thu, 13 Jun 2024   Pseudo R-squ.:                  0.3419\n",
       "Time:                        23:12:27   Log-Likelihood:                -25897.\n",
       "converged:                       True   LL-Null:                       -39354.\n",
       "Covariance Type:            nonrobust   LLR p-value:                     0.000\n",
       "================================================================================================\n",
       "                                   coef    std err          z      P>|z|      [0.025      0.975]\n",
       "------------------------------------------------------------------------------------------------\n",
       "const                            1.6365      0.129     12.703      0.000       1.384       1.889\n",
       "region_0                        -3.4835      0.168    -20.692      0.000      -3.813      -3.154\n",
       "region_1                        -1.0808      0.030    -36.218      0.000      -1.139      -1.022\n",
       "region_2                        -1.2762      0.031    -41.569      0.000      -1.336      -1.216\n",
       "region_3                        -1.0204      0.023    -44.243      0.000      -1.066      -0.975\n",
       "region_4                        -1.0539      0.025    -41.765      0.000      -1.103      -1.004\n",
       "region_5                        -1.2047      0.027    -44.996      0.000      -1.257      -1.152\n",
       "education                        0.1959      0.026      7.423      0.000       0.144       0.248\n",
       "no_of_trainings                 -1.0426      0.029    -35.713      0.000      -1.100      -0.985\n",
       "age                             -0.0225      0.002    -10.796      0.000      -0.027      -0.018\n",
       "previous_year_rating             0.2571      0.008     32.723      0.000       0.242       0.272\n",
       "length_of_service               -0.0269      0.004     -7.587      0.000      -0.034      -0.020\n",
       "awards_won?                      1.1037      0.073     15.074      0.000       0.960       1.247\n",
       "avg_training_score               0.0383      0.001     28.317      0.000       0.036       0.041\n",
       "department_Finance              -1.9473      0.074    -26.259      0.000      -2.093      -1.802\n",
       "department_HR                   -2.3117      0.092    -25.007      0.000      -2.493      -2.131\n",
       "department_Legal                -2.7560      0.142    -19.430      0.000      -3.034      -2.478\n",
       "department_Operations           -1.2510      0.041    -30.642      0.000      -1.331      -1.171\n",
       "department_Procurement          -1.5487      0.041    -38.009      0.000      -1.629      -1.469\n",
       "department_R&D                  -2.9424      0.115    -25.549      0.000      -3.168      -2.717\n",
       "department_Sales & Marketing    -0.6702      0.047    -14.294      0.000      -0.762      -0.578\n",
       "department_Technology           -1.6697      0.038    -43.493      0.000      -1.745      -1.594\n",
       "gender_m                        -0.7138      0.024    -30.147      0.000      -0.760      -0.667\n",
       "recruitment_channel_referred    -1.7985      0.107    -16.808      0.000      -2.008      -1.589\n",
       "recruitment_channel_sourcing    -0.7517      0.023    -32.019      0.000      -0.798      -0.706\n",
       "================================================================================================\n",
       "\"\"\""
      ]
     },
     "execution_count": 129,
     "metadata": {},
     "output_type": "execute_result"
    }
   ],
   "source": [
    "model.summary() "
   ]
  },
  {
   "cell_type": "code",
   "execution_count": 130,
   "id": "1ead8589",
   "metadata": {},
   "outputs": [],
   "source": [
    "y_softpred = model.predict(sma.add_constant(x_test))\n",
    "y_hardpred = (y_softpred>0.5).astype(int)"
   ]
  },
  {
   "cell_type": "code",
   "execution_count": 131,
   "id": "6ce50890",
   "metadata": {},
   "outputs": [
    {
     "data": {
      "text/plain": [
       "array([[13003,  2032],\n",
       "       [  990,   418]], dtype=int64)"
      ]
     },
     "execution_count": 131,
     "metadata": {},
     "output_type": "execute_result"
    }
   ],
   "source": [
    "confusion_matrix(y_test,y_hardpred)"
   ]
  },
  {
   "cell_type": "code",
   "execution_count": 132,
   "id": "42ce9955",
   "metadata": {},
   "outputs": [
    {
     "name": "stdout",
     "output_type": "stream",
     "text": [
      "              precision    recall  f1-score   support\n",
      "\n",
      "         0.0       0.93      0.86      0.90     15035\n",
      "         1.0       0.17      0.30      0.22      1408\n",
      "\n",
      "    accuracy                           0.82     16443\n",
      "   macro avg       0.55      0.58      0.56     16443\n",
      "weighted avg       0.86      0.82      0.84     16443\n",
      "\n"
     ]
    }
   ],
   "source": [
    "print(classification_report(y_test,y_hardpred))"
   ]
  },
  {
   "cell_type": "code",
   "execution_count": 133,
   "id": "1abb17f4",
   "metadata": {},
   "outputs": [],
   "source": [
    "mod=[]\n",
    "accu=[]\n",
    "prec=[]\n",
    "rec=[]\n",
    "f1=[]\n",
    "kappa=[]\n",
    "\n",
    "def model_validation(model,xtrain,ytrain,xtest,ytest):\n",
    "    m=model\n",
    "    m.fit(xtrain,ytrain)\n",
    "    pred_h=m.predict(xtest)\n",
    "    pred_s=m.predict_proba(xtest)[:,1]\n",
    "    \n",
    "    print(f'Confusion Matrix\\n {confusion_matrix(ytest,pred_h)}')\n",
    "    print(f'Classification Report\\n {classification_report(ytest,pred_h)}')\n",
    "    \n",
    "    fpr,tpr,thresh=roc_curve(ytest,pred_s)\n",
    "    plt.plot(fpr,tpr)\n",
    "    plt.plot([0,1],[0,1],ls='--',color='red')\n",
    "    plt.title(f'ROC AUC: {round(roc_auc_score(ytest,pred_s),2)}')\n",
    "    plt.show()\n",
    "    \n",
    "    response=input('Do you want to save the model Y/N?')\n",
    "    \n",
    "    if response.lower()=='y':\n",
    "        \n",
    "        global scorecard\n",
    "        mod.append(str(model))\n",
    "        accu.append(accuracy_score(ytest,pred_h))\n",
    "        rec.append(recall_score(ytest,pred_h))\n",
    "        prec.append(precision_score(ytest,pred_h))\n",
    "        f1.append(f1_score(ytest,pred_h))\n",
    "        kappa.append(cohen_kappa_score(ytest,pred_h))\n",
    "\n",
    "        scorecard=pd.DataFrame({'Model':mod,\n",
    "                                'Accuracy':accu,\n",
    "                                'Precision':prec,\n",
    "                                'Recall':rec,\n",
    "                                'F1-Score':f1,\n",
    "                                'Cohen-Kappa Score':kappa})\n",
    "    else:\n",
    "        return"
   ]
  },
  {
   "cell_type": "code",
   "execution_count": 134,
   "id": "c40902d4",
   "metadata": {},
   "outputs": [
    {
     "name": "stdout",
     "output_type": "stream",
     "text": [
      "Confusion Matrix\n",
      " [[13011  2024]\n",
      " [  989   419]]\n",
      "Classification Report\n",
      "               precision    recall  f1-score   support\n",
      "\n",
      "         0.0       0.93      0.87      0.90     15035\n",
      "         1.0       0.17      0.30      0.22      1408\n",
      "\n",
      "    accuracy                           0.82     16443\n",
      "   macro avg       0.55      0.58      0.56     16443\n",
      "weighted avg       0.86      0.82      0.84     16443\n",
      "\n"
     ]
    },
    {
     "name": "stderr",
     "output_type": "stream",
     "text": [
      "C:\\Users\\raj50\\anaconda3\\lib\\site-packages\\sklearn\\linear_model\\_logistic.py:814: ConvergenceWarning: lbfgs failed to converge (status=1):\n",
      "STOP: TOTAL NO. of ITERATIONS REACHED LIMIT.\n",
      "\n",
      "Increase the number of iterations (max_iter) or scale the data as shown in:\n",
      "    https://scikit-learn.org/stable/modules/preprocessing.html\n",
      "Please also refer to the documentation for alternative solver options:\n",
      "    https://scikit-learn.org/stable/modules/linear_model.html#logistic-regression\n",
      "  n_iter_i = _check_optimize_result(\n"
     ]
    },
    {
     "data": {
      "image/png": "[encoded data removed]",
      "text/plain": [
       "<Figure size 432x288 with 1 Axes>"
      ]
     },
     "metadata": {
      "needs_background": "light"
     },
     "output_type": "display_data"
    },
    {
     "name": "stdout",
     "output_type": "stream",
     "text": [
      "Do you want to save the model Y/N?y\n"
     ]
    }
   ],
   "source": [
    "model_validation(LogisticRegression(max_iter=500),x_train_new,y_train_new,x_test,y_test)"
   ]
  },
  {
   "cell_type": "code",
   "execution_count": 135,
   "id": "9de648c1",
   "metadata": {},
   "outputs": [
    {
     "name": "stdout",
     "output_type": "stream",
     "text": [
      "Confusion Matrix\n",
      " [[13503  1532]\n",
      " [  852   556]]\n",
      "Classification Report\n",
      "               precision    recall  f1-score   support\n",
      "\n",
      "         0.0       0.94      0.90      0.92     15035\n",
      "         1.0       0.27      0.39      0.32      1408\n",
      "\n",
      "    accuracy                           0.86     16443\n",
      "   macro avg       0.60      0.65      0.62     16443\n",
      "weighted avg       0.88      0.86      0.87     16443\n",
      "\n"
     ]
    },
    {
     "data": {
      "image/png": "[encoded data removed]",
      "text/plain": [
       "<Figure size 432x288 with 1 Axes>"
      ]
     },
     "metadata": {
      "needs_background": "light"
     },
     "output_type": "display_data"
    },
    {
     "name": "stdout",
     "output_type": "stream",
     "text": [
      "Do you want to save the model Y/N?y\n"
     ]
    }
   ],
   "source": [
    "model_validation(DecisionTreeClassifier(random_state=42),x_train_new,y_train_new,x_test,y_test)"
   ]
  },
  {
   "cell_type": "code",
   "execution_count": 136,
   "id": "46bfa60f",
   "metadata": {},
   "outputs": [
    {
     "name": "stdout",
     "output_type": "stream",
     "text": [
      "Confusion Matrix\n",
      " [[13822  1213]\n",
      " [ 1053   355]]\n",
      "Classification Report\n",
      "               precision    recall  f1-score   support\n",
      "\n",
      "         0.0       0.93      0.92      0.92     15035\n",
      "         1.0       0.23      0.25      0.24      1408\n",
      "\n",
      "    accuracy                           0.86     16443\n",
      "   macro avg       0.58      0.59      0.58     16443\n",
      "weighted avg       0.87      0.86      0.87     16443\n",
      "\n"
     ]
    },
    {
     "data": {
      "image/png": "[encoded data removed]",
      "text/plain": [
       "<Figure size 432x288 with 1 Axes>"
      ]
     },
     "metadata": {
      "needs_background": "light"
     },
     "output_type": "display_data"
    },
    {
     "name": "stdout",
     "output_type": "stream",
     "text": [
      "Do you want to save the model Y/N?y\n"
     ]
    }
   ],
   "source": [
    "model_validation(RandomForestClassifier(n_estimators=100,max_depth=5,max_features=8,random_state=42),x_train_new,y_train_new,x_test,y_test)"
   ]
  },
  {
   "cell_type": "code",
   "execution_count": 137,
   "id": "3f3a102d",
   "metadata": {},
   "outputs": [
    {
     "name": "stdout",
     "output_type": "stream",
     "text": [
      "Confusion Matrix\n",
      " [[13631  1404]\n",
      " [  960   448]]\n",
      "Classification Report\n",
      "               precision    recall  f1-score   support\n",
      "\n",
      "         0.0       0.93      0.91      0.92     15035\n",
      "         1.0       0.24      0.32      0.27      1408\n",
      "\n",
      "    accuracy                           0.86     16443\n",
      "   macro avg       0.59      0.61      0.60     16443\n",
      "weighted avg       0.87      0.86      0.86     16443\n",
      "\n"
     ]
    },
    {
     "data": {
      "image/png": "[encoded data removed]",
      "text/plain": [
       "<Figure size 432x288 with 1 Axes>"
      ]
     },
     "metadata": {
      "needs_background": "light"
     },
     "output_type": "display_data"
    },
    {
     "name": "stdout",
     "output_type": "stream",
     "text": [
      "Do you want to save the model Y/N?y\n"
     ]
    }
   ],
   "source": [
    "model_validation(AdaBoostClassifier(n_estimators=100,random_state=42),x_train_new,y_train_new,x_test,y_test)"
   ]
  },
  {
   "cell_type": "code",
   "execution_count": 138,
   "id": "84036b76",
   "metadata": {},
   "outputs": [
    {
     "name": "stdout",
     "output_type": "stream",
     "text": [
      "Confusion Matrix\n",
      " [[14315   720]\n",
      " [  821   587]]\n",
      "Classification Report\n",
      "               precision    recall  f1-score   support\n",
      "\n",
      "         0.0       0.95      0.95      0.95     15035\n",
      "         1.0       0.45      0.42      0.43      1408\n",
      "\n",
      "    accuracy                           0.91     16443\n",
      "   macro avg       0.70      0.68      0.69     16443\n",
      "weighted avg       0.90      0.91      0.90     16443\n",
      "\n"
     ]
    },
    {
     "data": {
      "image/png": "[encoded data removed]",
      "text/plain": [
       "<Figure size 432x288 with 1 Axes>"
      ]
     },
     "metadata": {
      "needs_background": "light"
     },
     "output_type": "display_data"
    },
    {
     "name": "stdout",
     "output_type": "stream",
     "text": [
      "Do you want to save the model Y/N?y\n"
     ]
    }
   ],
   "source": [
    "model_validation(XGBClassifier(n_estimators=100,random_state=42),x_train_new,y_train_new,x_test,y_test)"
   ]
  },
  {
   "cell_type": "code",
   "execution_count": 139,
   "id": "6c170bea",
   "metadata": {},
   "outputs": [
    {
     "name": "stdout",
     "output_type": "stream",
     "text": [
      "Confusion Matrix\n",
      " [[14424   611]\n",
      " [  921   487]]\n",
      "Classification Report\n",
      "               precision    recall  f1-score   support\n",
      "\n",
      "         0.0       0.94      0.96      0.95     15035\n",
      "         1.0       0.44      0.35      0.39      1408\n",
      "\n",
      "    accuracy                           0.91     16443\n",
      "   macro avg       0.69      0.65      0.67     16443\n",
      "weighted avg       0.90      0.91      0.90     16443\n",
      "\n"
     ]
    },
    {
     "data": {
      "image/png": "[encoded data removed]",
      "text/plain": [
       "<Figure size 432x288 with 1 Axes>"
      ]
     },
     "metadata": {
      "needs_background": "light"
     },
     "output_type": "display_data"
    },
    {
     "name": "stdout",
     "output_type": "stream",
     "text": [
      "Do you want to save the model Y/N?y\n"
     ]
    }
   ],
   "source": [
    "model_validation(BaggingClassifier(n_estimators=100,random_state=42),x_train_new,y_train_new,x_test,y_test)"
   ]
  },
  {
   "cell_type": "code",
   "execution_count": 140,
   "id": "1e7ef96e",
   "metadata": {},
   "outputs": [
    {
     "name": "stdout",
     "output_type": "stream",
     "text": [
      "Confusion Matrix\n",
      " [[14315   720]\n",
      " [  821   587]]\n",
      "Classification Report\n",
      "               precision    recall  f1-score   support\n",
      "\n",
      "         0.0       0.95      0.95      0.95     15035\n",
      "         1.0       0.45      0.42      0.43      1408\n",
      "\n",
      "    accuracy                           0.91     16443\n",
      "   macro avg       0.70      0.68      0.69     16443\n",
      "weighted avg       0.90      0.91      0.90     16443\n",
      "\n"
     ]
    },
    {
     "data": {
      "image/png": "[encoded data removed]",
      "text/plain": [
       "<Figure size 432x288 with 1 Axes>"
      ]
     },
     "metadata": {
      "needs_background": "light"
     },
     "output_type": "display_data"
    },
    {
     "name": "stdout",
     "output_type": "stream",
     "text": [
      "Do you want to save the model Y/N?y\n"
     ]
    }
   ],
   "source": [
    "model_validation(xgb.XGBClassifier(n_estimators=100,random_state=42),x_train_new,y_train_new,x_test,y_test)"
   ]
  },
  {
   "cell_type": "code",
   "execution_count": 141,
   "id": "bcddca45",
   "metadata": {},
   "outputs": [],
   "source": [
    "from catboost import CatBoostClassifier\n",
    "import lightgbm as lgb"
   ]
  },
  {
   "cell_type": "code",
   "execution_count": 142,
   "id": "74552432",
   "metadata": {},
   "outputs": [
    {
     "name": "stdout",
     "output_type": "stream",
     "text": [
      "Learning rate set to 0.483569\n",
      "0:\tlearn: 0.5726077\ttotal: 8.45ms\tremaining: 836ms\n",
      "1:\tlearn: 0.5112118\ttotal: 16.2ms\tremaining: 796ms\n",
      "2:\tlearn: 0.4343769\ttotal: 24.6ms\tremaining: 794ms\n",
      "3:\tlearn: 0.4195227\ttotal: 32.4ms\tremaining: 777ms\n",
      "4:\tlearn: 0.3944070\ttotal: 40.4ms\tremaining: 768ms\n",
      "5:\tlearn: 0.3703492\ttotal: 48.7ms\tremaining: 762ms\n",
      "6:\tlearn: 0.3527286\ttotal: 56.4ms\tremaining: 749ms\n",
      "7:\tlearn: 0.3486401\ttotal: 64.1ms\tremaining: 737ms\n",
      "8:\tlearn: 0.3387961\ttotal: 73.7ms\tremaining: 745ms\n",
      "9:\tlearn: 0.3328372\ttotal: 82.7ms\tremaining: 744ms\n",
      "10:\tlearn: 0.3252388\ttotal: 90.5ms\tremaining: 732ms\n",
      "11:\tlearn: 0.3199031\ttotal: 98.3ms\tremaining: 721ms\n",
      "12:\tlearn: 0.3162189\ttotal: 106ms\tremaining: 708ms\n",
      "13:\tlearn: 0.3130017\ttotal: 113ms\tremaining: 695ms\n",
      "14:\tlearn: 0.3113677\ttotal: 121ms\tremaining: 686ms\n",
      "15:\tlearn: 0.3087470\ttotal: 129ms\tremaining: 679ms\n",
      "16:\tlearn: 0.3046570\ttotal: 137ms\tremaining: 670ms\n",
      "17:\tlearn: 0.3021522\ttotal: 145ms\tremaining: 661ms\n",
      "18:\tlearn: 0.3003029\ttotal: 154ms\tremaining: 658ms\n",
      "19:\tlearn: 0.2989470\ttotal: 162ms\tremaining: 648ms\n",
      "20:\tlearn: 0.2970452\ttotal: 172ms\tremaining: 645ms\n",
      "21:\tlearn: 0.2954236\ttotal: 186ms\tremaining: 660ms\n",
      "22:\tlearn: 0.2898366\ttotal: 196ms\tremaining: 658ms\n",
      "23:\tlearn: 0.2865129\ttotal: 206ms\tremaining: 654ms\n",
      "24:\tlearn: 0.2850298\ttotal: 214ms\tremaining: 643ms\n",
      "25:\tlearn: 0.2840267\ttotal: 223ms\tremaining: 634ms\n",
      "26:\tlearn: 0.2827974\ttotal: 230ms\tremaining: 622ms\n",
      "27:\tlearn: 0.2810063\ttotal: 238ms\tremaining: 612ms\n",
      "28:\tlearn: 0.2790257\ttotal: 246ms\tremaining: 601ms\n",
      "29:\tlearn: 0.2772881\ttotal: 253ms\tremaining: 590ms\n",
      "30:\tlearn: 0.2761477\ttotal: 261ms\tremaining: 581ms\n",
      "31:\tlearn: 0.2752910\ttotal: 269ms\tremaining: 572ms\n",
      "32:\tlearn: 0.2741705\ttotal: 277ms\tremaining: 562ms\n",
      "33:\tlearn: 0.2724375\ttotal: 285ms\tremaining: 553ms\n",
      "34:\tlearn: 0.2718443\ttotal: 293ms\tremaining: 544ms\n",
      "35:\tlearn: 0.2699766\ttotal: 301ms\tremaining: 535ms\n",
      "36:\tlearn: 0.2689428\ttotal: 309ms\tremaining: 526ms\n",
      "37:\tlearn: 0.2678592\ttotal: 317ms\tremaining: 518ms\n",
      "38:\tlearn: 0.2663829\ttotal: 325ms\tremaining: 509ms\n",
      "39:\tlearn: 0.2654831\ttotal: 334ms\tremaining: 501ms\n",
      "40:\tlearn: 0.2641211\ttotal: 341ms\tremaining: 491ms\n",
      "41:\tlearn: 0.2632884\ttotal: 349ms\tremaining: 482ms\n",
      "42:\tlearn: 0.2614063\ttotal: 357ms\tremaining: 473ms\n",
      "43:\tlearn: 0.2602867\ttotal: 365ms\tremaining: 464ms\n",
      "44:\tlearn: 0.2597322\ttotal: 373ms\tremaining: 456ms\n",
      "45:\tlearn: 0.2585009\ttotal: 381ms\tremaining: 447ms\n",
      "46:\tlearn: 0.2577809\ttotal: 392ms\tremaining: 442ms\n",
      "47:\tlearn: 0.2567679\ttotal: 405ms\tremaining: 439ms\n",
      "48:\tlearn: 0.2558586\ttotal: 414ms\tremaining: 431ms\n",
      "49:\tlearn: 0.2552015\ttotal: 424ms\tremaining: 424ms\n",
      "50:\tlearn: 0.2542634\ttotal: 432ms\tremaining: 415ms\n",
      "51:\tlearn: 0.2534730\ttotal: 440ms\tremaining: 406ms\n",
      "52:\tlearn: 0.2528300\ttotal: 448ms\tremaining: 397ms\n",
      "53:\tlearn: 0.2518667\ttotal: 456ms\tremaining: 388ms\n",
      "54:\tlearn: 0.2510970\ttotal: 464ms\tremaining: 379ms\n",
      "55:\tlearn: 0.2502966\ttotal: 471ms\tremaining: 370ms\n",
      "56:\tlearn: 0.2496728\ttotal: 480ms\tremaining: 362ms\n",
      "57:\tlearn: 0.2488855\ttotal: 488ms\tremaining: 353ms\n",
      "58:\tlearn: 0.2481891\ttotal: 495ms\tremaining: 344ms\n",
      "59:\tlearn: 0.2475423\ttotal: 503ms\tremaining: 335ms\n",
      "60:\tlearn: 0.2466540\ttotal: 511ms\tremaining: 327ms\n",
      "61:\tlearn: 0.2457339\ttotal: 519ms\tremaining: 318ms\n",
      "62:\tlearn: 0.2450876\ttotal: 527ms\tremaining: 309ms\n",
      "63:\tlearn: 0.2442203\ttotal: 535ms\tremaining: 301ms\n",
      "64:\tlearn: 0.2435237\ttotal: 543ms\tremaining: 292ms\n",
      "65:\tlearn: 0.2430456\ttotal: 550ms\tremaining: 283ms\n",
      "66:\tlearn: 0.2424564\ttotal: 558ms\tremaining: 275ms\n",
      "67:\tlearn: 0.2416304\ttotal: 566ms\tremaining: 266ms\n",
      "68:\tlearn: 0.2412339\ttotal: 573ms\tremaining: 258ms\n",
      "69:\tlearn: 0.2399065\ttotal: 581ms\tremaining: 249ms\n",
      "70:\tlearn: 0.2388361\ttotal: 589ms\tremaining: 241ms\n",
      "71:\tlearn: 0.2381751\ttotal: 601ms\tremaining: 234ms\n",
      "72:\tlearn: 0.2377799\ttotal: 612ms\tremaining: 226ms\n",
      "73:\tlearn: 0.2369950\ttotal: 620ms\tremaining: 218ms\n",
      "74:\tlearn: 0.2364053\ttotal: 628ms\tremaining: 209ms\n",
      "75:\tlearn: 0.2355999\ttotal: 638ms\tremaining: 201ms\n",
      "76:\tlearn: 0.2347671\ttotal: 645ms\tremaining: 193ms\n",
      "77:\tlearn: 0.2342063\ttotal: 653ms\tremaining: 184ms\n",
      "78:\tlearn: 0.2331847\ttotal: 661ms\tremaining: 176ms\n",
      "79:\tlearn: 0.2327162\ttotal: 670ms\tremaining: 167ms\n",
      "80:\tlearn: 0.2323078\ttotal: 677ms\tremaining: 159ms\n",
      "81:\tlearn: 0.2317617\ttotal: 685ms\tremaining: 150ms\n",
      "82:\tlearn: 0.2311763\ttotal: 693ms\tremaining: 142ms\n",
      "83:\tlearn: 0.2305786\ttotal: 700ms\tremaining: 133ms\n",
      "84:\tlearn: 0.2297370\ttotal: 707ms\tremaining: 125ms\n",
      "85:\tlearn: 0.2289313\ttotal: 715ms\tremaining: 116ms\n",
      "86:\tlearn: 0.2283958\ttotal: 723ms\tremaining: 108ms\n",
      "87:\tlearn: 0.2276322\ttotal: 730ms\tremaining: 99.5ms\n",
      "88:\tlearn: 0.2270630\ttotal: 737ms\tremaining: 91.1ms\n",
      "89:\tlearn: 0.2263805\ttotal: 745ms\tremaining: 82.8ms\n",
      "90:\tlearn: 0.2258658\ttotal: 753ms\tremaining: 74.5ms\n",
      "91:\tlearn: 0.2251842\ttotal: 761ms\tremaining: 66.2ms\n",
      "92:\tlearn: 0.2245107\ttotal: 769ms\tremaining: 57.9ms\n",
      "93:\tlearn: 0.2242084\ttotal: 777ms\tremaining: 49.6ms\n",
      "94:\tlearn: 0.2238188\ttotal: 784ms\tremaining: 41.2ms\n",
      "95:\tlearn: 0.2231124\ttotal: 792ms\tremaining: 33ms\n",
      "96:\tlearn: 0.2228151\ttotal: 804ms\tremaining: 24.9ms\n",
      "97:\tlearn: 0.2224093\ttotal: 815ms\tremaining: 16.6ms\n",
      "98:\tlearn: 0.2217685\ttotal: 825ms\tremaining: 8.33ms\n",
      "99:\tlearn: 0.2212595\ttotal: 833ms\tremaining: 0us\n",
      "Confusion Matrix\n",
      " [[14224   811]\n",
      " [  798   610]]\n",
      "Classification Report\n",
      "               precision    recall  f1-score   support\n",
      "\n",
      "         0.0       0.95      0.95      0.95     15035\n",
      "         1.0       0.43      0.43      0.43      1408\n",
      "\n",
      "    accuracy                           0.90     16443\n",
      "   macro avg       0.69      0.69      0.69     16443\n",
      "weighted avg       0.90      0.90      0.90     16443\n",
      "\n"
     ]
    },
    {
     "data": {
      "image/png": "[encoded data removed]",
      "text/plain": [
       "<Figure size 432x288 with 1 Axes>"
      ]
     },
     "metadata": {
      "needs_background": "light"
     },
     "output_type": "display_data"
    },
    {
     "name": "stdout",
     "output_type": "stream",
     "text": [
      "Do you want to save the model Y/N?y\n"
     ]
    }
   ],
   "source": [
    "model_validation(CatBoostClassifier(n_estimators=100,random_state=42,verbose=1),x_train_new,y_train_new,x_test,y_test)"
   ]
  },
  {
   "cell_type": "code",
   "execution_count": 143,
   "id": "2672034a",
   "metadata": {},
   "outputs": [
    {
     "name": "stdout",
     "output_type": "stream",
     "text": [
      "[LightGBM] [Warning] Found whitespace in feature_names, replace with underlines\n",
      "[LightGBM] [Info] Number of positive: 23379, number of negative: 35105\n",
      "[LightGBM] [Warning] Auto-choosing row-wise multi-threading, the overhead of testing was 0.002848 seconds.\n",
      "You can set `force_row_wise=true` to remove the overhead.\n",
      "And if memory is not enough, you can set `force_col_wise=true`.\n",
      "[LightGBM] [Info] Total Bins 445\n",
      "[LightGBM] [Info] Number of data points in the train set: 58484, number of used features: 24\n",
      "[LightGBM] [Info] [binary:BoostFromScore]: pavg=0.399750 -> initscore=-0.406505\n",
      "[LightGBM] [Info] Start training from score -0.406505\n",
      "Confusion Matrix\n",
      " [[14398   637]\n",
      " [  827   581]]\n",
      "Classification Report\n",
      "               precision    recall  f1-score   support\n",
      "\n",
      "         0.0       0.95      0.96      0.95     15035\n",
      "         1.0       0.48      0.41      0.44      1408\n",
      "\n",
      "    accuracy                           0.91     16443\n",
      "   macro avg       0.71      0.69      0.70     16443\n",
      "weighted avg       0.91      0.91      0.91     16443\n",
      "\n"
     ]
    },
    {
     "data": {
      "image/png": "[encoded data removed]",
      "text/plain": [
       "<Figure size 432x288 with 1 Axes>"
      ]
     },
     "metadata": {
      "needs_background": "light"
     },
     "output_type": "display_data"
    },
    {
     "name": "stdout",
     "output_type": "stream",
     "text": [
      "Do you want to save the model Y/N?y\n"
     ]
    }
   ],
   "source": [
    "model_validation(lgb.LGBMClassifier(n_estimators=100,random_state=42,verbose=1),x_train_new,y_train_new,x_test,y_test)"
   ]
  },
  {
   "cell_type": "code",
   "execution_count": 144,
   "id": "064b466f",
   "metadata": {},
   "outputs": [
    {
     "name": "stdout",
     "output_type": "stream",
     "text": [
      "Confusion Matrix\n",
      " [[12134  2901]\n",
      " [  808   600]]\n",
      "Classification Report\n",
      "               precision    recall  f1-score   support\n",
      "\n",
      "         0.0       0.94      0.81      0.87     15035\n",
      "         1.0       0.17      0.43      0.24      1408\n",
      "\n",
      "    accuracy                           0.77     16443\n",
      "   macro avg       0.55      0.62      0.56     16443\n",
      "weighted avg       0.87      0.77      0.81     16443\n",
      "\n"
     ]
    },
    {
     "data": {
      "image/png": "[encoded data removed]",
      "text/plain": [
       "<Figure size 432x288 with 1 Axes>"
      ]
     },
     "metadata": {
      "needs_background": "light"
     },
     "output_type": "display_data"
    },
    {
     "name": "stdout",
     "output_type": "stream",
     "text": [
      "Do you want to save the model Y/N?y\n"
     ]
    }
   ],
   "source": [
    "model_validation(KNeighborsClassifier(n_neighbors=5),x_train_new,y_train_new,x_test,y_test)"
   ]
  },
  {
   "cell_type": "code",
   "execution_count": 145,
   "id": "c74c996e",
   "metadata": {},
   "outputs": [
    {
     "data": {
      "text/html": [
       "<div>\n",
       "<style scoped>\n",
       "    .dataframe tbody tr th:only-of-type {\n",
       "        vertical-align: middle;\n",
       "    }\n",
       "\n",
       "    .dataframe tbody tr th {\n",
       "        vertical-align: top;\n",
       "    }\n",
       "\n",
       "    .dataframe thead th {\n",
       "        text-align: right;\n",
       "    }\n",
       "</style>\n",
       "<table border=\"1\" class=\"dataframe\">\n",
       "  <thead>\n",
       "    <tr style=\"text-align: right;\">\n",
       "      <th></th>\n",
       "      <th>Model</th>\n",
       "      <th>Accuracy</th>\n",
       "      <th>Precision</th>\n",
       "      <th>Recall</th>\n",
       "      <th>F1-Score</th>\n",
       "      <th>Cohen-Kappa Score</th>\n",
       "    </tr>\n",
       "  </thead>\n",
       "  <tbody>\n",
       "    <tr>\n",
       "      <th>0</th>\n",
       "      <td>LogisticRegression(max_iter=500)</td>\n",
       "      <td>0.816761</td>\n",
       "      <td>0.171510</td>\n",
       "      <td>0.297585</td>\n",
       "      <td>0.217606</td>\n",
       "      <td>0.122244</td>\n",
       "    </tr>\n",
       "    <tr>\n",
       "      <th>1</th>\n",
       "      <td>DecisionTreeClassifier(random_state=42)</td>\n",
       "      <td>0.855014</td>\n",
       "      <td>0.266284</td>\n",
       "      <td>0.394886</td>\n",
       "      <td>0.318078</td>\n",
       "      <td>0.240380</td>\n",
       "    </tr>\n",
       "    <tr>\n",
       "      <th>2</th>\n",
       "      <td>RandomForestClassifier(max_depth=5, max_featur...</td>\n",
       "      <td>0.862191</td>\n",
       "      <td>0.226403</td>\n",
       "      <td>0.252131</td>\n",
       "      <td>0.238575</td>\n",
       "      <td>0.163055</td>\n",
       "    </tr>\n",
       "    <tr>\n",
       "      <th>3</th>\n",
       "      <td>AdaBoostClassifier(n_estimators=100, random_st...</td>\n",
       "      <td>0.856231</td>\n",
       "      <td>0.241901</td>\n",
       "      <td>0.318182</td>\n",
       "      <td>0.274847</td>\n",
       "      <td>0.196692</td>\n",
       "    </tr>\n",
       "    <tr>\n",
       "      <th>4</th>\n",
       "      <td>XGBClassifier(base_score=None, booster=None, c...</td>\n",
       "      <td>0.906282</td>\n",
       "      <td>0.449120</td>\n",
       "      <td>0.416903</td>\n",
       "      <td>0.432413</td>\n",
       "      <td>0.381414</td>\n",
       "    </tr>\n",
       "    <tr>\n",
       "      <th>5</th>\n",
       "      <td>BaggingClassifier(n_estimators=100, random_sta...</td>\n",
       "      <td>0.906830</td>\n",
       "      <td>0.443534</td>\n",
       "      <td>0.345881</td>\n",
       "      <td>0.388667</td>\n",
       "      <td>0.339074</td>\n",
       "    </tr>\n",
       "    <tr>\n",
       "      <th>6</th>\n",
       "      <td>XGBClassifier(base_score=None, booster=None, c...</td>\n",
       "      <td>0.906282</td>\n",
       "      <td>0.449120</td>\n",
       "      <td>0.416903</td>\n",
       "      <td>0.432413</td>\n",
       "      <td>0.381414</td>\n",
       "    </tr>\n",
       "    <tr>\n",
       "      <th>7</th>\n",
       "      <td>&lt;catboost.core.CatBoostClassifier object at 0x...</td>\n",
       "      <td>0.902147</td>\n",
       "      <td>0.429275</td>\n",
       "      <td>0.433239</td>\n",
       "      <td>0.431248</td>\n",
       "      <td>0.377717</td>\n",
       "    </tr>\n",
       "    <tr>\n",
       "      <th>8</th>\n",
       "      <td>LGBMClassifier(random_state=42, verbose=1)</td>\n",
       "      <td>0.910965</td>\n",
       "      <td>0.477011</td>\n",
       "      <td>0.412642</td>\n",
       "      <td>0.442498</td>\n",
       "      <td>0.394393</td>\n",
       "    </tr>\n",
       "    <tr>\n",
       "      <th>9</th>\n",
       "      <td>KNeighborsClassifier()</td>\n",
       "      <td>0.774433</td>\n",
       "      <td>0.171380</td>\n",
       "      <td>0.426136</td>\n",
       "      <td>0.244449</td>\n",
       "      <td>0.139328</td>\n",
       "    </tr>\n",
       "  </tbody>\n",
       "</table>\n",
       "</div>"
      ],
      "text/plain": [
       "                                               Model  Accuracy  Precision  \\\n",
       "0                   LogisticRegression(max_iter=500)  0.816761   0.171510   \n",
       "1            DecisionTreeClassifier(random_state=42)  0.855014   0.266284   \n",
       "2  RandomForestClassifier(max_depth=5, max_featur...  0.862191   0.226403   \n",
       "3  AdaBoostClassifier(n_estimators=100, random_st...  0.856231   0.241901   \n",
       "4  XGBClassifier(base_score=None, booster=None, c...  0.906282   0.449120   \n",
       "5  BaggingClassifier(n_estimators=100, random_sta...  0.906830   0.443534   \n",
       "6  XGBClassifier(base_score=None, booster=None, c...  0.906282   0.449120   \n",
       "7  <catboost.core.CatBoostClassifier object at 0x...  0.902147   0.429275   \n",
       "8         LGBMClassifier(random_state=42, verbose=1)  0.910965   0.477011   \n",
       "9                             KNeighborsClassifier()  0.774433   0.171380   \n",
       "\n",
       "     Recall  F1-Score  Cohen-Kappa Score  \n",
       "0  0.297585  0.217606           0.122244  \n",
       "1  0.394886  0.318078           0.240380  \n",
       "2  0.252131  0.238575           0.163055  \n",
       "3  0.318182  0.274847           0.196692  \n",
       "4  0.416903  0.432413           0.381414  \n",
       "5  0.345881  0.388667           0.339074  \n",
       "6  0.416903  0.432413           0.381414  \n",
       "7  0.433239  0.431248           0.377717  \n",
       "8  0.412642  0.442498           0.394393  \n",
       "9  0.426136  0.244449           0.139328  "
      ]
     },
     "execution_count": 145,
     "metadata": {},
     "output_type": "execute_result"
    }
   ],
   "source": [
    "scorecard"
   ]
  }
 ],
 "metadata": {
  "kernelspec": {
   "display_name": "Python 3 (ipykernel)",
   "language": "python",
   "name": "python3"
  },
  "language_info": {
   "codemirror_mode": {
    "name": "ipython",
    "version": 3
   },
   "file_extension": ".py",
   "mimetype": "text/x-python",
   "name": "python",
   "nbconvert_exporter": "python",
   "pygments_lexer": "ipython3",
   "version": "3.9.12"
  }
 },
 "nbformat": 4,
 "nbformat_minor": 5
}
